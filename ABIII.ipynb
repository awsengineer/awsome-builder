{
 "cells": [
  {
   "cell_type": "markdown",
   "metadata": {
    "slideshow": {
     "slide_type": "slide"
    }
   },
   "source": [
    "# AWSome Builder III (Mehdi Salehi)\n",
    "Containerize a COBOL app and move it to AWS"
   ]
  },
  {
   "cell_type": "markdown",
   "metadata": {},
   "source": [
    "### The existing legacy enviroment:"
   ]
  },
  {
   "cell_type": "code",
   "execution_count": 192,
   "metadata": {},
   "outputs": [
    {
     "name": "stdout",
     "output_type": "stream",
     "text": [
      "AIX\n",
      "7200-04-01-1939\n",
      "System Model: IBM,9009-22A\n",
      "Machine Serial Number: 78BABE0\n",
      "Processor Type: PowerPC_POWER9\n",
      "Processor Implementation Mode: POWER 9\n",
      "Processor Version: PV_9_Compat\n"
     ]
    }
   ],
   "source": [
    "%%bash\n",
    "\n",
    "export AIX_HOST=\"52.117.41.211\"\n",
    "\n",
    "export AIX_USER=\"ab3user\"\n",
    "\n",
    "export CMD=\"uname; oslevel -s; prtconf 2>/dev/null | head -5\"\n",
    "\n",
    "ssh ab3user@$AIX_HOST $CMD\n"
   ]
  },
  {
   "cell_type": "markdown",
   "metadata": {},
   "source": [
    "### Checking the COBOL Compiler on AIX host:"
   ]
  },
  {
   "cell_type": "code",
   "execution_count": 63,
   "metadata": {},
   "outputs": [
    {
     "name": "stdout",
     "output_type": "stream",
     "text": [
      "  Fileset                      Level  State      Description         \n",
      "  ----------------------------------------------------------------------------\n",
      "Path: /usr/lib/objrepos\n",
      "  cobol.rte                  5.1.0.0  COMMITTED  IBM COBOL for AIX Runtime\n"
     ]
    }
   ],
   "source": [
    "%%bash\n",
    "\n",
    "export AIX_HOST=\"52.117.41.211\"\n",
    "\n",
    "export AIX_USER=\"ab3user\"\n",
    "\n",
    "export CMD=\"lslpp -l cobol.rte\"\n",
    "\n",
    "ssh $AIX_USER@$AIX_HOST $CMD"
   ]
  },
  {
   "cell_type": "markdown",
   "metadata": {},
   "source": [
    "### Running a sample COBOL application on AIX (Edit the code in modern developement tools):\n",
    "https://github.com/awsengineer/awsome-builder/blob/main/AWSome.cbl"
   ]
  },
  {
   "cell_type": "code",
   "execution_count": 193,
   "metadata": {},
   "outputs": [
    {
     "name": "stdout",
     "output_type": "stream",
     "text": [
      "\n",
      "The COBOL code has been uploaded to the AIX host successfully.\n",
      "\n",
      "A Quick look at the code on AIX host:\n",
      "\n",
      "       IDENTIFICATION DIVISION.\n",
      "       PROGRAM-ID.  ABIII.\n",
      "       PROCEDURE DIVISION.\n",
      "       DisplayPrompt.\n",
      "           DISPLAY \"Hiii! I am a legacy COBOL code running on AIX.\".\n",
      "           STOP RUN."
     ]
    }
   ],
   "source": [
    "%%bash\n",
    "export AIX_HOST=\"52.117.41.211\"\n",
    "export AIX_USER=\"ab3user\"\n",
    "export APP_DIR=\"/home/cobol\"\n",
    "export COBOL_FILE=\"AWSome.cbl\"\n",
    "\n",
    "#cat <<EOF >$COBOL_FILE\n",
    "#       IDENTIFICATION DIVISION.\n",
    "#      PROGRAM-ID.  ABIII.\n",
    "#\n",
    "#       PROCEDURE DIVISION.\n",
    "#       DisplayPrompt.\n",
    "#           DISPLAY \"Woohoo :) I am a COBOL code running on AIX!\".\n",
    "#           STOP RUN.\n",
    "#EOF\n",
    "\n",
    "git pull > /dev/null 2>&1\n",
    "\n",
    "scp $COBOL_FILE $AIX_USER@$AIX_HOST:$APP_DIR && echo -e \"\\nThe COBOL code has been uploaded to the AIX host successfully.\"\n",
    "\n",
    "export CMD=\"echo -e '\\nA Quick look at the code on AIX host:\\n' ;cat ${APP_DIR}/${COBOL_FILE}\"\n",
    "\n",
    "ssh $AIX_USER@$AIX_HOST $CMD"
   ]
  },
  {
   "cell_type": "markdown",
   "metadata": {},
   "source": [
    "### Compile the COBOL code on AIX:"
   ]
  },
  {
   "cell_type": "code",
   "execution_count": 195,
   "metadata": {},
   "outputs": [
    {
     "name": "stdout",
     "output_type": "stream",
     "text": [
      "Remove the exising complied app...\n",
      "\n",
      "Compile the COBOL code...\n",
      "\n",
      "PP 5724-Z87 IBM COBOL for AIX  5.1.0 in progress ...\n",
      "End of compilation 1,  program ABIII,  no statements flagged.\n",
      "\n",
      "Check the output binary file:\n",
      "\n",
      "/home/cobol/AWSome.exe: executable (RISC System/6000) or object module not stripped\n",
      "\n",
      "Run the executable file:\n",
      "\n",
      "Hiii! I am a legacy COBOL code running on AIX.\n"
     ]
    }
   ],
   "source": [
    "%%bash\n",
    "export AIX_HOST=\"52.117.41.211\"\n",
    "export AIX_USER=\"ab3user\"\n",
    "export APP_DIR=\"/home/cobol\"\n",
    "export COBOL_CODE=\"$APP_DIR/AWSome.cbl\"\n",
    "export EXEC_FILE=\"$APP_DIR/AWSome.exe\"\n",
    "\n",
    "ssh $AIX_USER@${AIX_HOST} \"\n",
    "\n",
    "echo -e 'Remove the exising complied app...\\n'\n",
    "rm -f $EXEC_FILE  2>/dev/null \n",
    "\n",
    "echo -e 'Compile the COBOL code...\\n'\n",
    "\n",
    "cob2 $COBOL_CODE -o $EXEC_FILE #>/dev/null\n",
    "\n",
    "if [ -f $EXEC_FILE ]\n",
    "then \n",
    "    echo -e '\\nCheck the output binary file:\\n'\n",
    "    file $EXEC_FILE\n",
    "    echo -e '\\nRun the executable file:\\n'\n",
    "    $EXEC_FILE;  \n",
    "else\n",
    "    echo \"Compile error\" \n",
    "fi\"\n"
   ]
  },
  {
   "cell_type": "markdown",
   "metadata": {},
   "source": [
    "### Run the same code on a Linux container:"
   ]
  },
  {
   "cell_type": "code",
   "execution_count": 90,
   "metadata": {},
   "outputs": [
    {
     "name": "stdout",
     "output_type": "stream",
     "text": [
      "\n",
      "The contents of the Dockerfile:\n",
      "-------------------------------\n",
      "\n",
      "FROM debian:latest\n",
      "\n",
      "RUN apt-get update && apt-get install -y open-cobol\n",
      "\n",
      "RUN mkdir /src\n",
      "\n",
      "COPY ./AWSome.cbl /src\n",
      "\n",
      "RUN cd /src && cobc -free -x -o AWSome.exe AWSome.cbl\n",
      "\n",
      "CMD \"./src/AWSome.exe\"\n"
     ]
    }
   ],
   "source": [
    "%%bash\n",
    "\n",
    "if [ -f AWSome.cbl ]\n",
    "then \n",
    "    echo -e \"\\nThe contents of the Dockerfile:\"\n",
    "    echo -e \"-------------------------------\\n\"\n",
    "    cat Dockerfile\n",
    "else\n",
    "    echo \"The COBOL source code (AWSome.cbl) does not exist.\"\n",
    "fi"
   ]
  },
  {
   "cell_type": "markdown",
   "metadata": {},
   "source": [
    "### Create the Docker image:"
   ]
  },
  {
   "cell_type": "code",
   "execution_count": 201,
   "metadata": {},
   "outputs": [
    {
     "name": "stdout",
     "output_type": "stream",
     "text": [
      "Sending build context to Docker daemon  436.7kB\r",
      "\r\n",
      "Step 1/6 : FROM debian:latest\n",
      " ---> e7d08cddf791\n",
      "Step 2/6 : RUN apt-get update && apt-get install -y open-cobol\n",
      " ---> Using cache\n",
      " ---> e4f22fb2276d\n",
      "Step 3/6 : RUN mkdir /src\n",
      " ---> Using cache\n",
      " ---> 7eaa0ae317ac\n",
      "Step 4/6 : COPY ./AWSome.cbl /src\n",
      " ---> Using cache\n",
      " ---> 5b375bbe7575\n",
      "Step 5/6 : RUN cd /src && cobc -free -x -o AWSome.exe AWSome.cbl\n",
      " ---> Using cache\n",
      " ---> c019733701c1\n",
      "Step 6/6 : CMD \"./src/AWSome.exe\"\n",
      " ---> Using cache\n",
      " ---> c10e2e3eeecb\n",
      "Successfully built c10e2e3eeecb\n",
      "Successfully tagged ezzobad/awsome-builder:ABIII\n"
     ]
    }
   ],
   "source": [
    "%%bash\n",
    "\n",
    "docker -v >/dev/null 2>&1\n",
    "\n",
    "if [ $? -eq \"0\" ] && [ -f ./Dockerfile ]\n",
    "then\n",
    "    docker build -t ezzobad/awsome-builder:ABIII .\n",
    "else\n",
    "    echo -e \"\\nDocker environemnt is not ready.\"\n",
    "fi\n",
    "\n",
    "\n",
    "\n"
   ]
  },
  {
   "cell_type": "markdown",
   "metadata": {},
   "source": [
    "### Test the Docker image locally:"
   ]
  },
  {
   "cell_type": "code",
   "execution_count": 204,
   "metadata": {},
   "outputs": [
    {
     "name": "stdout",
     "output_type": "stream",
     "text": [
      "\n",
      "The details of the local Docker image:\n",
      "\n",
      "REPOSITORY               TAG                 IMAGE ID            CREATED             SIZE\n",
      "ezzobad/awsome-builder   ABIII               c10e2e3eeecb        2 minutes ago       273MB\n",
      "\n",
      "Now run a container based on the recently-created image:\n",
      "\n",
      "Hiii! I am a legacy COBOL code running on AIX.\n"
     ]
    }
   ],
   "source": [
    "%%bash\n",
    "\n",
    "echo -e \"\\nThe details of the local Docker image:\\n\"\n",
    "docker image ls ezzobad/awsome-builder:ABIII\n",
    "\n",
    "echo -e \"\\nNow run a container based on the recently-created image:\\n\"\n",
    "docker run ezzobad/awsome-builder:ABIII\n"
   ]
  },
  {
   "cell_type": "markdown",
   "metadata": {},
   "source": [
    "### Push the image to a Docker repository:\n",
    "https://hub.docker.com/repository/docker/ezzobad/awsome-builder"
   ]
  },
  {
   "cell_type": "code",
   "execution_count": 205,
   "metadata": {},
   "outputs": [
    {
     "name": "stdout",
     "output_type": "stream",
     "text": [
      "The push refers to repository [docker.io/ezzobad/awsome-builder]\n",
      "52d42724ee23: Preparing\n",
      "dace43b25d6c: Preparing\n",
      "7d540c05a6b1: Preparing\n",
      "3cf02b66d37a: Preparing\n",
      "4762552ad7d8: Preparing\n",
      "4762552ad7d8: Layer already exists\n",
      "dace43b25d6c: Pushed\n",
      "7d540c05a6b1: Pushed\n",
      "52d42724ee23: Pushed\n",
      "3cf02b66d37a: Pushed\n",
      "ABIII: digest: sha256:6e68b20a9371400d544462a80dc5d602c997a287e9d8a72436c8665c02597700 size: 1363\n"
     ]
    }
   ],
   "source": [
    "%%bash\n",
    "\n",
    "docker push ezzobad/awsome-builder:ABIII\n"
   ]
  },
  {
   "cell_type": "markdown",
   "metadata": {},
   "source": [
    "### Verify the Docker repository:"
   ]
  },
  {
   "cell_type": "code",
   "execution_count": 208,
   "metadata": {},
   "outputs": [
    {
     "name": "stdout",
     "output_type": "stream",
     "text": [
      "Delete the local image:\n",
      "\n",
      "Untagged: ezzobad/awsome-builder:ABIII\n",
      "Untagged: ezzobad/awsome-builder@sha256:6e68b20a9371400d544462a80dc5d602c997a287e9d8a72436c8665c02597700\n",
      "Deleted: sha256:c10e2e3eeecb21e13c7b08ec0de29872d02db57e763a6720bf7de532af6fb68d\n",
      "\n",
      "Now run a container. This will pull the image from the repo:\n",
      "\n",
      "Hiii! I am a legacy COBOL code running on AIX.\n"
     ]
    }
   ],
   "source": [
    "%%bash\n",
    "\n",
    "echo -e \"Delete the local image:\\n\"\n",
    "docker image rm ezzobad/awsome-builder:ABIII --force\n",
    "\n",
    "echo -e \"\\nNow run a container. This will pull the image from the repo:\\n\"\n",
    "docker run ezzobad/awsome-builder:ABIII 2>/dev/null"
   ]
  },
  {
   "cell_type": "markdown",
   "metadata": {},
   "source": [
    "### Openshift environment on AWS:"
   ]
  },
  {
   "cell_type": "markdown",
   "metadata": {},
   "source": [
    "https://cloud.redhat.com/openshift/install/aws/installer-provisioned\n",
    "\n",
    "AWS OpenShift Installer on Mac:\n",
    "https://mirror.openshift.com/pub/openshift-v4/clients/ocp/latest/openshift-install-mac.tar.gz \n",
    "    \n",
    "OpenShift Client (OC) for Mac:\n",
    "https://mirror.openshift.com/pub/openshift-v4/clients/ocp/latest/openshift-client-mac.tar.gz \n",
    "\n"
   ]
  },
  {
   "cell_type": "markdown",
   "metadata": {},
   "source": [
    "### Explore the OpenShift cluster from CLI:"
   ]
  },
  {
   "cell_type": "code",
   "execution_count": 209,
   "metadata": {},
   "outputs": [
    {
     "name": "stdout",
     "output_type": "stream",
     "text": [
      "\n",
      "Check the cluster nodes:\n",
      "\n",
      "NAME                                         STATUS   ROLES    AGE    VERSION\n",
      "ip-10-0-164-121.us-west-1.compute.internal   Ready    master   23d    v1.19.0+43983cd\n",
      "ip-10-0-176-128.us-west-1.compute.internal   Ready    master   23d    v1.19.0+43983cd\n",
      "ip-10-0-181-167.us-west-1.compute.internal   Ready    worker   164m   v1.19.0+43983cd\n",
      "ip-10-0-186-141.us-west-1.compute.internal   Ready    worker   156m   v1.19.0+43983cd\n",
      "ip-10-0-190-130.us-west-1.compute.internal   Ready    worker   23d    v1.19.0+43983cd\n",
      "ip-10-0-222-169.us-west-1.compute.internal   Ready    master   23d    v1.19.0+43983cd\n",
      "ip-10-0-235-231.us-west-1.compute.internal   Ready    worker   23d    v1.19.0+43983cd\n",
      "\n",
      "Check the cluster resources:\n",
      "\n",
      "NAME                                         CPU(cores)   CPU%   MEMORY(bytes)   MEMORY%   \n",
      "ip-10-0-164-121.us-west-1.compute.internal   599m         17%    3912Mi          27%       \n",
      "ip-10-0-176-128.us-west-1.compute.internal   1030m        29%    6139Mi          42%       \n",
      "ip-10-0-181-167.us-west-1.compute.internal   101m         6%     1290Mi          19%       \n",
      "ip-10-0-186-141.us-west-1.compute.internal   123m         8%     1177Mi          17%       \n",
      "ip-10-0-190-130.us-west-1.compute.internal   545m         36%    3433Mi          52%       \n",
      "ip-10-0-222-169.us-west-1.compute.internal   681m         19%    3643Mi          25%       \n",
      "ip-10-0-235-231.us-west-1.compute.internal   507m         33%    3827Mi          58%       \n",
      "\n",
      "Tweek the number of worker nodes (the hard way):\n",
      "\n",
      "oc edit machinesets.machine.openshift.io awsome-openshift-clus-f94d7-worker-us-west-1b -n openshift-machine-api\n",
      "\n",
      "Check the EC2 instances:\n",
      "\n",
      "https://tiny.amazon.com/48qywull/usweconsawsamazec2v2home\n",
      "\n",
      "Check the number of machines:\n",
      "\n",
      "NAME                                            DESIRED   CURRENT   READY   AVAILABLE   AGE\n",
      "awsome-openshift-clus-f94d7-worker-us-west-1b   3         3         3       3           23d\n",
      "awsome-openshift-clus-f94d7-worker-us-west-1c   1         1         1       1           23d\n"
     ]
    }
   ],
   "source": [
    "%%bash\n",
    "\n",
    "export PATH=/home/ec2-user/anaconda3/bin:$PATH:/home/ec2-user/bin\n",
    "        \n",
    "oc login --server https://api.awsome-openshift-cluster.awsome-builder.com:6443 \\\n",
    "--username kubeadmin --password QUPhE-eRKET-GojYB-aHJKu > /dev/null 2>&1\n",
    "\n",
    "oc new-project ab3project > /dev/null 2>&1\n",
    "\n",
    "echo -e \"\\nCheck the cluster nodes:\\n\"\n",
    "oc get nodes\n",
    "\n",
    "echo -e \"\\nCheck the cluster resources:\\n\"\n",
    "kubectl top nodes\n",
    "\n",
    "echo -e \"\\nTweek the number of worker nodes (the hard way):\\n\"\n",
    "echo 'oc edit machinesets.machine.openshift.io awsome-openshift-clus-f94d7-worker-us-west-1b -n openshift-machine-api'\n",
    "\n",
    "echo -e \"\\nCheck the EC2 instances:\\n\"\n",
    "echo 'https://tiny.amazon.com/48qywull/usweconsawsamazec2v2home'\n",
    "\n",
    "echo -e \"\\nCheck the number of machines:\\n\"\n",
    "oc get machinesets.machine.openshift.io -n openshift-machine-api\n",
    "\n",
    "# kubectl run -it ab3 --image=ezzobad/awsome-builder:ABIII -- bash    \n",
    "# kubectl exec ab3 -- ./src/AWSome.exe\n"
   ]
  },
  {
   "cell_type": "markdown",
   "metadata": {},
   "source": [
    "### Run a test container from the GUI Console\n",
    "https://tiny.amazon.com/hjtrscbz/oautappsawsoawsologi "
   ]
  },
  {
   "cell_type": "raw",
   "metadata": {},
   "source": [
    "apiVersion: v1\n",
    "kind: Pod\n",
    "metadata:\n",
    "  name: awsome-builder-test-pod\n",
    "  labels:\n",
    "    AB-phase: III\n",
    "  namespace: ab3project\n",
    "spec:\n",
    "  containers:\n",
    "    - name: hello-openshift\n",
    "      image: openshift/hello-openshift\n",
    "      ports:\n",
    "        - containerPort: 8080\n",
    "    - name: bastion\n",
    "      image: nginx\n",
    "      ports:\n",
    "        - containerPort: 80\n"
   ]
  },
  {
   "cell_type": "markdown",
   "metadata": {},
   "source": [
    "### Run the COBOL app from OpenShift CLI:"
   ]
  },
  {
   "cell_type": "code",
   "execution_count": 210,
   "metadata": {},
   "outputs": [
    {
     "name": "stdout",
     "output_type": "stream",
     "text": [
      "pod/testpod created\n",
      "\n",
      "Hiii! I am a legacy COBOL code running on AIX.\n"
     ]
    }
   ],
   "source": [
    "%%bash\n",
    "export PATH=/home/ec2-user/anaconda3/bin:$PATH:/home/ec2-user/bin\n",
    "\n",
    "oc delete pod testpod --force 2>/dev/null\n",
    "oc run testpod --image=ezzobad/awsome-builder:ABIII --restart Never\n",
    "sleep 3\n",
    "echo \n",
    "oc logs testpod "
   ]
  },
  {
   "cell_type": "markdown",
   "metadata": {},
   "source": [
    "# Nest step: Automation of Docker image creation"
   ]
  },
  {
   "cell_type": "code",
   "execution_count": 187,
   "metadata": {},
   "outputs": [
    {
     "name": "stdout",
     "output_type": "stream",
     "text": [
      "Already up to date.\n",
      "On branch main\n",
      "Your branch is up to date with 'origin/main'.\n",
      "\n",
      "Untracked files:\n",
      "\t.ipynb_checkpoints/AWSome-checkpoint.cbl\n",
      "\n",
      "nothing added to commit but untracked files present\n",
      "https://hub.docker.com/repository/docker/ezzobad/awsome-builder/builds/edit\n",
      "\n"
     ]
    },
    {
     "name": "stderr",
     "output_type": "stream",
     "text": [
      "Everything up-to-date\n"
     ]
    }
   ],
   "source": [
    "%%bash\n",
    "export PATH=/home/ec2-user/anaconda3/bin:$PATH:/home/ec2-user/bin\n",
    "export COBOL_FILE=\"AWSome.cbl\"\n",
    "\n",
    "git pull \n",
    "\n",
    "cat <<EOF >$COBOL_FILE\n",
    "      IDENTIFICATION DIVISION.\n",
    "      PROGRAM-ID.  ABIII.\n",
    "\n",
    "       PROCEDURE DIVISION.\n",
    "       DisplayPrompt.\n",
    "           DISPLAY \"OK! Let's automate!\".\n",
    "           STOP RUN.\n",
    "EOF\n",
    "\n",
    "#git add $COBOL_FILE\n",
    "\n",
    "git commit -a -m \"Let's trigger Docker image build\"\n",
    "git push\n",
    "\n",
    "# Create a Dockerhub build to trigger an action when Dockerfile is updated on Github\n",
    "# Use the ssh-key of the Dockerhub repository to authenticate with Github\n",
    "echo -e \"https://hub.docker.com/repository/docker/ezzobad/awsome-builder/builds/edit\\n\"\n"
   ]
  },
  {
   "cell_type": "markdown",
   "metadata": {},
   "source": [
    "# Create a Pod based on the lastest image:"
   ]
  },
  {
   "cell_type": "code",
   "execution_count": 190,
   "metadata": {},
   "outputs": [
    {
     "name": "stdout",
     "output_type": "stream",
     "text": [
      "Delete the old Pod if exists...\n",
      "\n",
      "pod \"newpod\" force deleted\n",
      "Create a Pod based on the latest image...\n",
      "\n",
      "pod/newpod created\n",
      "Wait until the Pod gets ready...\n",
      "\n",
      "Get the application's log:\n",
      "\n",
      "OK! Let's automate!\n"
     ]
    }
   ],
   "source": [
    "%%bash\n",
    "export PATH=/home/ec2-user/anaconda3/bin:$PATH:/home/ec2-user/bin\n",
    "\n",
    "\n",
    "echo -e \"Delete the old Pod if exists...\\n\"\n",
    "oc delete pod newpod --force 2>/dev/null\n",
    "\n",
    "echo -e \"Create a Pod based on the latest image...\\n\"\n",
    "oc run newpod --image=ezzobad/awsome-builder:ABIII \\\n",
    "--image-pull-policy=Always --restart=Never \n",
    "\n",
    "echo -e \"Wait until the Pod gets ready...\\n\"\n",
    "while [ `oc get pod newpod -o jsonpath=\"{.status.phase}\"` != \"Succeeded\" ]\n",
    "do \n",
    "sleep 1; \n",
    "done\n",
    "\n",
    "echo -e \"Get the application's log:\\n\"\n",
    "oc logs newpod"
   ]
  },
  {
   "cell_type": "code",
   "execution_count": null,
   "metadata": {},
   "outputs": [],
   "source": []
  }
 ],
 "metadata": {
  "celltoolbar": "Slideshow",
  "kernelspec": {
   "display_name": "conda_python3",
   "language": "python",
   "name": "conda_python3"
  },
  "language_info": {
   "codemirror_mode": {
    "name": "ipython",
    "version": 3
   },
   "file_extension": ".py",
   "mimetype": "text/x-python",
   "name": "python",
   "nbconvert_exporter": "python",
   "pygments_lexer": "ipython3",
   "version": "3.6.10"
  }
 },
 "nbformat": 4,
 "nbformat_minor": 4
}
