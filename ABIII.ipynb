{
 "cells": [
  {
   "cell_type": "markdown",
   "metadata": {},
   "source": [
    "# The legacy AIX enviroment:"
   ]
  },
  {
   "cell_type": "code",
   "execution_count": 7,
   "metadata": {},
   "outputs": [
    {
     "name": "stdout",
     "output_type": "stream",
     "text": [
      "AIX\n",
      "7200-04-01-1939\n",
      "System Model: IBM,9009-22A\n",
      "Machine Serial Number: 78BABE0\n",
      "Processor Type: PowerPC_POWER9\n",
      "Processor Implementation Mode: POWER 9\n"
     ]
    }
   ],
   "source": [
    "%%bash\n",
    "\n",
    "export AIX_HOST=\"52.117.41.211\"\n",
    "\n",
    "export AIX_USER=\"ab3user\"\n",
    "\n",
    "export CMD=\"uname; oslevel -s; prtconf 2>/dev/null | head -5\"\n",
    "\n",
    "ssh ab3user@$AIX_HOST $CMD\n"
   ]
  },
  {
   "cell_type": "markdown",
   "metadata": {},
   "source": [
    "# Checking the COBOL Compiler on AIX host:"
   ]
  },
  {
   "cell_type": "code",
   "execution_count": 63,
   "metadata": {},
   "outputs": [
    {
     "name": "stdout",
     "output_type": "stream",
     "text": [
      "  Fileset                      Level  State      Description         \n",
      "  ----------------------------------------------------------------------------\n",
      "Path: /usr/lib/objrepos\n",
      "  cobol.rte                  5.1.0.0  COMMITTED  IBM COBOL for AIX Runtime\n"
     ]
    }
   ],
   "source": [
    "%%bash\n",
    "\n",
    "export AIX_HOST=\"52.117.41.211\"\n",
    "\n",
    "export AIX_USER=\"ab3user\"\n",
    "\n",
    "export CMD=\"lslpp -l cobol.rte\"\n",
    "\n",
    "ssh $AIX_USER@$AIX_HOST $CMD"
   ]
  },
  {
   "cell_type": "markdown",
   "metadata": {},
   "source": [
    "# Sample COBOL application (Edit the code in modern developement tools):\n",
    "https://github.com/awsengineer/awsome-builder/blob/main/AWSome.cbl"
   ]
  },
  {
   "cell_type": "code",
   "execution_count": 76,
   "metadata": {},
   "outputs": [
    {
     "name": "stdout",
     "output_type": "stream",
     "text": [
      "\n",
      "The COBOL code has been uploaded to the AIX host successfully.\n",
      "\n",
      "A Quick look at the code on AIX host:\n",
      "\n",
      "       IDENTIFICATION DIVISION.\n",
      "       PROGRAM-ID.  ABIII.\n",
      "       PROCEDURE DIVISION.\n",
      "       DisplayPrompt.\n",
      "           DISPLAY \"Hello team! I am a COBOL code running on AIX.\".\n",
      "           STOP RUN."
     ]
    }
   ],
   "source": [
    "%%bash\n",
    "export AIX_HOST=\"52.117.41.211\"\n",
    "export AIX_USER=\"ab3user\"\n",
    "export APP_DIR=\"/home/cobol\"\n",
    "export COBOL_FILE=\"AWSome.cbl\"\n",
    "\n",
    "#cat <<EOF >$COBOL_FILE\n",
    "#       IDENTIFICATION DIVISION.\n",
    "#      PROGRAM-ID.  ABIII.\n",
    "#\n",
    "#       PROCEDURE DIVISION.\n",
    "#       DisplayPrompt.\n",
    "#           DISPLAY \"Woohoo :) I am a COBOL code running on AIX!\".\n",
    "#           STOP RUN.\n",
    "#EOF\n",
    "\n",
    "git pull > /dev/null 2>&1\n",
    "\n",
    "scp $COBOL_FILE $AIX_USER@$AIX_HOST:$APP_DIR && echo -e \"\\nThe COBOL code has been uploaded to the AIX host successfully.\"\n",
    "\n",
    "export CMD=\"echo -e '\\nA Quick look at the code on AIX host:\\n' ;cat ${APP_DIR}/${COBOL_FILE}\"\n",
    "\n",
    "ssh $AIX_USER@$AIX_HOST $CMD"
   ]
  },
  {
   "cell_type": "markdown",
   "metadata": {},
   "source": [
    "# Compile the COBOL code on AIX:"
   ]
  },
  {
   "cell_type": "code",
   "execution_count": 77,
   "metadata": {},
   "outputs": [
    {
     "name": "stdout",
     "output_type": "stream",
     "text": [
      "Remove the exising complied app...\n",
      "\n",
      "Compile the COBOL code...\n",
      "\n",
      "PP 5724-Z87 IBM COBOL for AIX  5.1.0 in progress ...\n",
      "End of compilation 1,  program ABIII,  no statements flagged.\n",
      "\n",
      "Check the output binary file:\n",
      "\n",
      "/home/cobol/AWSome.exe: executable (RISC System/6000) or object module not stripped\n",
      "\n",
      "Run the executable file:\n",
      "\n",
      "Hello team! I am a COBOL code running on AIX.\n"
     ]
    }
   ],
   "source": [
    "%%bash\n",
    "export AIX_HOST=\"52.117.41.211\"\n",
    "export AIX_USER=\"ab3user\"\n",
    "export APP_DIR=\"/home/cobol\"\n",
    "export COBOL_CODE=\"$APP_DIR/AWSome.cbl\"\n",
    "export EXEC_FILE=\"$APP_DIR/AWSome.exe\"\n",
    "\n",
    "ssh $AIX_USER@${AIX_HOST} \"\n",
    "\n",
    "echo -e 'Remove the exising complied app...\\n'\n",
    "rm -f $EXEC_FILE  2>/dev/null \n",
    "\n",
    "echo -e 'Compile the COBOL code...\\n'\n",
    "\n",
    "cob2 $COBOL_CODE -o $EXEC_FILE #>/dev/null\n",
    "\n",
    "if [ -f $EXEC_FILE ]\n",
    "then \n",
    "    echo -e '\\nCheck the output binary file:\\n'\n",
    "    file $EXEC_FILE\n",
    "    echo -e '\\nRun the executable file:\\n'\n",
    "    $EXEC_FILE;  \n",
    "else\n",
    "    echo \"Compile error\" \n",
    "fi\"\n"
   ]
  },
  {
   "cell_type": "markdown",
   "metadata": {},
   "source": [
    "# Run the same code on a Linux container:"
   ]
  },
  {
   "cell_type": "code",
   "execution_count": 90,
   "metadata": {},
   "outputs": [
    {
     "name": "stdout",
     "output_type": "stream",
     "text": [
      "\n",
      "The contents of the Dockerfile:\n",
      "-------------------------------\n",
      "\n",
      "FROM debian:latest\n",
      "\n",
      "RUN apt-get update && apt-get install -y open-cobol\n",
      "\n",
      "RUN mkdir /src\n",
      "\n",
      "COPY ./AWSome.cbl /src\n",
      "\n",
      "RUN cd /src && cobc -free -x -o AWSome.exe AWSome.cbl\n",
      "\n",
      "CMD \"./src/AWSome.exe\"\n"
     ]
    }
   ],
   "source": [
    "%%bash\n",
    "\n",
    "if [ -f AWSome.cbl ]\n",
    "then \n",
    "    echo -e \"\\nThe contents of the Dockerfile:\"\n",
    "    echo -e \"-------------------------------\\n\"\n",
    "    cat Dockerfile\n",
    "else\n",
    "    echo \"The COBOL source code (AWSome.cbl) does not exist.\"\n",
    "fi"
   ]
  },
  {
   "cell_type": "markdown",
   "metadata": {},
   "source": [
    "# Create the Docker image:"
   ]
  },
  {
   "cell_type": "code",
   "execution_count": 115,
   "metadata": {},
   "outputs": [
    {
     "name": "stdout",
     "output_type": "stream",
     "text": [
      "Sending build context to Docker daemon  268.8kB\n",
      "Step 1/6 : FROM debian:latest\n",
      " ---> e7d08cddf791\n",
      "Step 2/6 : RUN apt-get update && apt-get install -y open-cobol\n",
      " ---> Running in a35c7277ba24\n",
      "Get:1 http://security.debian.org/debian-security buster/updates InRelease [65.4 kB]\n",
      "Get:2 http://deb.debian.org/debian buster InRelease [121 kB]\n",
      "Get:3 http://deb.debian.org/debian buster-updates InRelease [51.9 kB]\n",
      "Get:4 http://security.debian.org/debian-security buster/updates/main amd64 Packages [270 kB]\n",
      "Get:5 http://deb.debian.org/debian buster/main amd64 Packages [7907 kB]\n",
      "Get:6 http://deb.debian.org/debian buster-updates/main amd64 Packages [7860 B]\n",
      "Fetched 8424 kB in 2s (5203 kB/s)\n",
      "Reading package lists...\n",
      "Reading package lists...\n",
      "Building dependency tree...\n",
      "Reading state information...\n",
      "The following additional packages will be installed:\n",
      "  binutils binutils-common binutils-x86-64-linux-gnu cpp cpp-8 gcc gcc-8\n",
      "  gnucobol libasan5 libatomic1 libbinutils libc-dev-bin libc6-dev libcc1-0\n",
      "  libcob4 libcob4-dev libgcc-8-dev libgmp-dev libgmpxx4ldbl libgomp1 libgpm2\n",
      "  libisl19 libitm1 liblsan0 libmpc3 libmpfr6 libmpx2 libncurses-dev\n",
      "  libncurses5-dev libncurses6 libquadmath0 libtsan0 libubsan1 linux-libc-dev\n",
      "  manpages manpages-dev\n",
      "Suggested packages:\n",
      "  binutils-doc cpp-doc gcc-8-locales gcc-multilib make autoconf automake\n",
      "  libtool flex bison gdb gcc-doc gcc-8-multilib gcc-8-doc libgcc1-dbg\n",
      "  libgomp1-dbg libitm1-dbg libatomic1-dbg libasan5-dbg liblsan0-dbg\n",
      "  libtsan0-dbg libubsan1-dbg libmpx2-dbg libquadmath0-dbg glibc-doc gmp-doc\n",
      "  libgmp10-doc libmpfr-dev gpm ncurses-doc man-browser\n",
      "The following NEW packages will be installed:\n",
      "  binutils binutils-common binutils-x86-64-linux-gnu cpp cpp-8 gcc gcc-8\n",
      "  gnucobol libasan5 libatomic1 libbinutils libc-dev-bin libc6-dev libcc1-0\n",
      "  libcob4 libcob4-dev libgcc-8-dev libgmp-dev libgmpxx4ldbl libgomp1 libgpm2\n",
      "  libisl19 libitm1 liblsan0 libmpc3 libmpfr6 libmpx2 libncurses-dev\n",
      "  libncurses5-dev libncurses6 libquadmath0 libtsan0 libubsan1 linux-libc-dev\n",
      "  manpages manpages-dev open-cobol\n",
      "0 upgraded, 37 newly installed, 0 to remove and 0 not upgraded.\n",
      "Need to get 37.8 MB of archives.\n",
      "After this operation, 143 MB of additional disk space will be used.\n",
      "Get:1 http://deb.debian.org/debian buster/main amd64 manpages all 4.16-2 [1295 kB]\n",
      "Get:2 http://deb.debian.org/debian buster/main amd64 binutils-common amd64 2.31.1-16 [2073 kB]\n",
      "Get:3 http://deb.debian.org/debian buster/main amd64 libbinutils amd64 2.31.1-16 [478 kB]\n",
      "Get:4 http://deb.debian.org/debian buster/main amd64 binutils-x86-64-linux-gnu amd64 2.31.1-16 [1823 kB]\n",
      "Get:5 http://deb.debian.org/debian buster/main amd64 binutils amd64 2.31.1-16 [56.8 kB]\n",
      "Get:6 http://deb.debian.org/debian buster/main amd64 libisl19 amd64 0.20-2 [587 kB]\n",
      "Get:7 http://deb.debian.org/debian buster/main amd64 libmpfr6 amd64 4.0.2-1 [775 kB]\n",
      "Get:8 http://deb.debian.org/debian buster/main amd64 libmpc3 amd64 1.1.0-1 [41.3 kB]\n",
      "Get:9 http://deb.debian.org/debian buster/main amd64 cpp-8 amd64 8.3.0-6 [8914 kB]\n",
      "Get:10 http://deb.debian.org/debian buster/main amd64 cpp amd64 4:8.3.0-1 [19.4 kB]\n",
      "Get:11 http://deb.debian.org/debian buster/main amd64 libcc1-0 amd64 8.3.0-6 [46.6 kB]\n",
      "Get:12 http://deb.debian.org/debian buster/main amd64 libgomp1 amd64 8.3.0-6 [75.8 kB]\n",
      "Get:13 http://deb.debian.org/debian buster/main amd64 libitm1 amd64 8.3.0-6 [27.7 kB]\n",
      "Get:14 http://deb.debian.org/debian buster/main amd64 libatomic1 amd64 8.3.0-6 [9032 B]\n",
      "Get:15 http://deb.debian.org/debian buster/main amd64 libasan5 amd64 8.3.0-6 [362 kB]\n",
      "Get:16 http://deb.debian.org/debian buster/main amd64 liblsan0 amd64 8.3.0-6 [131 kB]\n",
      "Get:17 http://deb.debian.org/debian buster/main amd64 libtsan0 amd64 8.3.0-6 [283 kB]\n",
      "Get:18 http://deb.debian.org/debian buster/main amd64 libubsan1 amd64 8.3.0-6 [120 kB]\n",
      "Get:19 http://deb.debian.org/debian buster/main amd64 libmpx2 amd64 8.3.0-6 [11.4 kB]\n",
      "Get:20 http://deb.debian.org/debian buster/main amd64 libquadmath0 amd64 8.3.0-6 [133 kB]\n",
      "Get:21 http://deb.debian.org/debian buster/main amd64 libgcc-8-dev amd64 8.3.0-6 [2298 kB]\n",
      "Get:22 http://deb.debian.org/debian buster/main amd64 gcc-8 amd64 8.3.0-6 [9452 kB]\n",
      "Get:23 http://deb.debian.org/debian buster/main amd64 gcc amd64 4:8.3.0-1 [5196 B]\n",
      "Get:24 http://deb.debian.org/debian buster/main amd64 libcob4 amd64 2.2-5 [151 kB]\n",
      "Get:25 http://deb.debian.org/debian buster/main amd64 libcob4-dev amd64 2.2-5 [190 kB]\n",
      "Get:26 http://deb.debian.org/debian buster/main amd64 libgmpxx4ldbl amd64 2:6.1.2+dfsg-4 [22.9 kB]\n",
      "Get:27 http://deb.debian.org/debian buster/main amd64 libgmp-dev amd64 2:6.1.2+dfsg-4 [628 kB]\n",
      "Get:28 http://deb.debian.org/debian buster/main amd64 libncurses6 amd64 6.1+20181013-2+deb10u2 [102 kB]\n",
      "Get:29 http://deb.debian.org/debian buster/main amd64 libc-dev-bin amd64 2.28-10 [275 kB]\n",
      "Get:30 http://deb.debian.org/debian buster/main amd64 linux-libc-dev amd64 4.19.160-2 [1416 kB]\n",
      "Get:31 http://deb.debian.org/debian buster/main amd64 libc6-dev amd64 2.28-10 [2691 kB]\n",
      "Get:32 http://deb.debian.org/debian buster/main amd64 libncurses-dev amd64 6.1+20181013-2+deb10u2 [333 kB]\n",
      "Get:33 http://deb.debian.org/debian buster/main amd64 libncurses5-dev amd64 6.1+20181013-2+deb10u2 [948 B]\n",
      "Get:34 http://deb.debian.org/debian buster/main amd64 gnucobol amd64 2.2-5 [740 kB]\n",
      "Get:35 http://deb.debian.org/debian buster/main amd64 libgpm2 amd64 1.20.7-5 [35.1 kB]\n",
      "Get:36 http://deb.debian.org/debian buster/main amd64 manpages-dev all 4.16-2 [2232 kB]\n",
      "Get:37 http://deb.debian.org/debian buster/main amd64 open-cobol all 2.2-5 [11.4 kB]\n",
      "\u001b[91mdebconf: delaying package configuration, since apt-utils is not installed\n",
      "\u001b[0mFetched 37.8 MB in 1s (55.8 MB/s)\n",
      "Selecting previously unselected package manpages.\n",
      "(Reading database ... 6677 files and directories currently installed.)\n",
      "Preparing to unpack .../00-manpages_4.16-2_all.deb ...\n",
      "Unpacking manpages (4.16-2) ...\n",
      "Selecting previously unselected package binutils-common:amd64.\n",
      "Preparing to unpack .../01-binutils-common_2.31.1-16_amd64.deb ...\n",
      "Unpacking binutils-common:amd64 (2.31.1-16) ...\n",
      "Selecting previously unselected package libbinutils:amd64.\n",
      "Preparing to unpack .../02-libbinutils_2.31.1-16_amd64.deb ...\n",
      "Unpacking libbinutils:amd64 (2.31.1-16) ...\n",
      "Selecting previously unselected package binutils-x86-64-linux-gnu.\n",
      "Preparing to unpack .../03-binutils-x86-64-linux-gnu_2.31.1-16_amd64.deb ...\n",
      "Unpacking binutils-x86-64-linux-gnu (2.31.1-16) ...\n",
      "Selecting previously unselected package binutils.\n",
      "Preparing to unpack .../04-binutils_2.31.1-16_amd64.deb ...\n",
      "Unpacking binutils (2.31.1-16) ...\n",
      "Selecting previously unselected package libisl19:amd64.\n",
      "Preparing to unpack .../05-libisl19_0.20-2_amd64.deb ...\n",
      "Unpacking libisl19:amd64 (0.20-2) ...\n",
      "Selecting previously unselected package libmpfr6:amd64.\n",
      "Preparing to unpack .../06-libmpfr6_4.0.2-1_amd64.deb ...\n",
      "Unpacking libmpfr6:amd64 (4.0.2-1) ...\n",
      "Selecting previously unselected package libmpc3:amd64.\n",
      "Preparing to unpack .../07-libmpc3_1.1.0-1_amd64.deb ...\n",
      "Unpacking libmpc3:amd64 (1.1.0-1) ...\n",
      "Selecting previously unselected package cpp-8.\n",
      "Preparing to unpack .../08-cpp-8_8.3.0-6_amd64.deb ...\n",
      "Unpacking cpp-8 (8.3.0-6) ...\n",
      "Selecting previously unselected package cpp.\n",
      "Preparing to unpack .../09-cpp_4%3a8.3.0-1_amd64.deb ...\n",
      "Unpacking cpp (4:8.3.0-1) ...\n",
      "Selecting previously unselected package libcc1-0:amd64.\n",
      "Preparing to unpack .../10-libcc1-0_8.3.0-6_amd64.deb ...\n",
      "Unpacking libcc1-0:amd64 (8.3.0-6) ...\n",
      "Selecting previously unselected package libgomp1:amd64.\n",
      "Preparing to unpack .../11-libgomp1_8.3.0-6_amd64.deb ...\n",
      "Unpacking libgomp1:amd64 (8.3.0-6) ...\n",
      "Selecting previously unselected package libitm1:amd64.\n",
      "Preparing to unpack .../12-libitm1_8.3.0-6_amd64.deb ...\n",
      "Unpacking libitm1:amd64 (8.3.0-6) ...\n",
      "Selecting previously unselected package libatomic1:amd64.\n",
      "Preparing to unpack .../13-libatomic1_8.3.0-6_amd64.deb ...\n",
      "Unpacking libatomic1:amd64 (8.3.0-6) ...\n",
      "Selecting previously unselected package libasan5:amd64.\n",
      "Preparing to unpack .../14-libasan5_8.3.0-6_amd64.deb ...\n",
      "Unpacking libasan5:amd64 (8.3.0-6) ...\n",
      "Selecting previously unselected package liblsan0:amd64.\n",
      "Preparing to unpack .../15-liblsan0_8.3.0-6_amd64.deb ...\n",
      "Unpacking liblsan0:amd64 (8.3.0-6) ...\n",
      "Selecting previously unselected package libtsan0:amd64.\n",
      "Preparing to unpack .../16-libtsan0_8.3.0-6_amd64.deb ...\n",
      "Unpacking libtsan0:amd64 (8.3.0-6) ...\n",
      "Selecting previously unselected package libubsan1:amd64.\n",
      "Preparing to unpack .../17-libubsan1_8.3.0-6_amd64.deb ...\n",
      "Unpacking libubsan1:amd64 (8.3.0-6) ...\n",
      "Selecting previously unselected package libmpx2:amd64.\n",
      "Preparing to unpack .../18-libmpx2_8.3.0-6_amd64.deb ...\n",
      "Unpacking libmpx2:amd64 (8.3.0-6) ...\n",
      "Selecting previously unselected package libquadmath0:amd64.\n",
      "Preparing to unpack .../19-libquadmath0_8.3.0-6_amd64.deb ...\n",
      "Unpacking libquadmath0:amd64 (8.3.0-6) ...\n",
      "Selecting previously unselected package libgcc-8-dev:amd64.\n",
      "Preparing to unpack .../20-libgcc-8-dev_8.3.0-6_amd64.deb ...\n",
      "Unpacking libgcc-8-dev:amd64 (8.3.0-6) ...\n",
      "Selecting previously unselected package gcc-8.\n",
      "Preparing to unpack .../21-gcc-8_8.3.0-6_amd64.deb ...\n",
      "Unpacking gcc-8 (8.3.0-6) ...\n",
      "Selecting previously unselected package gcc.\n",
      "Preparing to unpack .../22-gcc_4%3a8.3.0-1_amd64.deb ...\n",
      "Unpacking gcc (4:8.3.0-1) ...\n",
      "Selecting previously unselected package libcob4:amd64.\n",
      "Preparing to unpack .../23-libcob4_2.2-5_amd64.deb ...\n",
      "Unpacking libcob4:amd64 (2.2-5) ...\n",
      "Selecting previously unselected package libcob4-dev:amd64.\n",
      "Preparing to unpack .../24-libcob4-dev_2.2-5_amd64.deb ...\n",
      "Unpacking libcob4-dev:amd64 (2.2-5) ...\n",
      "Selecting previously unselected package libgmpxx4ldbl:amd64.\n",
      "Preparing to unpack .../25-libgmpxx4ldbl_2%3a6.1.2+dfsg-4_amd64.deb ...\n",
      "Unpacking libgmpxx4ldbl:amd64 (2:6.1.2+dfsg-4) ...\n",
      "Selecting previously unselected package libgmp-dev:amd64.\n",
      "Preparing to unpack .../26-libgmp-dev_2%3a6.1.2+dfsg-4_amd64.deb ...\n",
      "Unpacking libgmp-dev:amd64 (2:6.1.2+dfsg-4) ...\n",
      "Selecting previously unselected package libncurses6:amd64.\n",
      "Preparing to unpack .../27-libncurses6_6.1+20181013-2+deb10u2_amd64.deb ...\n",
      "Unpacking libncurses6:amd64 (6.1+20181013-2+deb10u2) ...\n",
      "Selecting previously unselected package libc-dev-bin.\n",
      "Preparing to unpack .../28-libc-dev-bin_2.28-10_amd64.deb ...\n",
      "Unpacking libc-dev-bin (2.28-10) ...\n",
      "Selecting previously unselected package linux-libc-dev:amd64.\n",
      "Preparing to unpack .../29-linux-libc-dev_4.19.160-2_amd64.deb ...\n",
      "Unpacking linux-libc-dev:amd64 (4.19.160-2) ...\n",
      "Selecting previously unselected package libc6-dev:amd64.\n",
      "Preparing to unpack .../30-libc6-dev_2.28-10_amd64.deb ...\n",
      "Unpacking libc6-dev:amd64 (2.28-10) ...\n",
      "Selecting previously unselected package libncurses-dev:amd64.\n",
      "Preparing to unpack .../31-libncurses-dev_6.1+20181013-2+deb10u2_amd64.deb ...\n",
      "Unpacking libncurses-dev:amd64 (6.1+20181013-2+deb10u2) ...\n",
      "Selecting previously unselected package libncurses5-dev:amd64.\n",
      "Preparing to unpack .../32-libncurses5-dev_6.1+20181013-2+deb10u2_amd64.deb ...\n",
      "Unpacking libncurses5-dev:amd64 (6.1+20181013-2+deb10u2) ...\n",
      "Selecting previously unselected package gnucobol.\n",
      "Preparing to unpack .../33-gnucobol_2.2-5_amd64.deb ...\n",
      "Unpacking gnucobol (2.2-5) ...\n",
      "Selecting previously unselected package libgpm2:amd64.\n",
      "Preparing to unpack .../34-libgpm2_1.20.7-5_amd64.deb ...\n",
      "Unpacking libgpm2:amd64 (1.20.7-5) ...\n",
      "Selecting previously unselected package manpages-dev.\n",
      "Preparing to unpack .../35-manpages-dev_4.16-2_all.deb ...\n",
      "Unpacking manpages-dev (4.16-2) ...\n",
      "Selecting previously unselected package open-cobol.\n",
      "Preparing to unpack .../36-open-cobol_2.2-5_all.deb ...\n",
      "Unpacking open-cobol (2.2-5) ...\n",
      "Setting up libgpm2:amd64 (1.20.7-5) ...\n",
      "Setting up libcob4:amd64 (2.2-5) ...\n",
      "Setting up manpages (4.16-2) ...\n",
      "Setting up binutils-common:amd64 (2.31.1-16) ...\n",
      "Setting up linux-libc-dev:amd64 (4.19.160-2) ...\n",
      "Setting up libgomp1:amd64 (8.3.0-6) ...\n",
      "Setting up libasan5:amd64 (8.3.0-6) ...\n",
      "Setting up libgmpxx4ldbl:amd64 (2:6.1.2+dfsg-4) ...\n",
      "Setting up libcob4-dev:amd64 (2.2-5) ...\n",
      "Setting up libmpfr6:amd64 (4.0.2-1) ...\n",
      "Setting up libncurses6:amd64 (6.1+20181013-2+deb10u2) ...\n",
      "Setting up libquadmath0:amd64 (8.3.0-6) ...\n",
      "Setting up libmpc3:amd64 (1.1.0-1) ...\n",
      "Setting up libatomic1:amd64 (8.3.0-6) ...\n",
      "Setting up libmpx2:amd64 (8.3.0-6) ...\n",
      "Setting up libubsan1:amd64 (8.3.0-6) ...\n",
      "Setting up libisl19:amd64 (0.20-2) ...\n",
      "Setting up libbinutils:amd64 (2.31.1-16) ...\n",
      "Setting up cpp-8 (8.3.0-6) ...\n",
      "Setting up libc-dev-bin (2.28-10) ...\n",
      "Setting up libcc1-0:amd64 (8.3.0-6) ...\n",
      "Setting up liblsan0:amd64 (8.3.0-6) ...\n",
      "Setting up libitm1:amd64 (8.3.0-6) ...\n",
      "Setting up binutils-x86-64-linux-gnu (2.31.1-16) ...\n",
      "Setting up libtsan0:amd64 (8.3.0-6) ...\n",
      "Setting up manpages-dev (4.16-2) ...\n",
      "Setting up libgmp-dev:amd64 (2:6.1.2+dfsg-4) ...\n",
      "Setting up binutils (2.31.1-16) ...\n",
      "Setting up libgcc-8-dev:amd64 (8.3.0-6) ...\n",
      "Setting up cpp (4:8.3.0-1) ...\n",
      "Setting up libc6-dev:amd64 (2.28-10) ...\n",
      "Setting up libncurses-dev:amd64 (6.1+20181013-2+deb10u2) ...\n",
      "Setting up gcc-8 (8.3.0-6) ...\n",
      "Setting up gcc (4:8.3.0-1) ...\n",
      "Setting up gnucobol (2.2-5) ...\n",
      "Setting up libncurses5-dev:amd64 (6.1+20181013-2+deb10u2) ...\n",
      "Setting up open-cobol (2.2-5) ...\n",
      "Processing triggers for libc-bin (2.28-10) ...\n",
      "Removing intermediate container a35c7277ba24\n",
      " ---> f8b1476d992a\n",
      "Step 3/6 : RUN mkdir /src\n",
      " ---> Running in cecfe402b1ea\n",
      "Removing intermediate container cecfe402b1ea\n",
      " ---> 28f4cc8ce5c2\n",
      "Step 4/6 : COPY ./AWSome.cbl /src\n",
      " ---> d931e11d1bab\n",
      "Step 5/6 : RUN cd /src && cobc -free -x -o AWSome.exe AWSome.cbl\n",
      " ---> Running in d54cedb5fed3\n",
      "\u001b[91mAWSome.cbl: 6: warning: line not terminated by a newline\n",
      "\u001b[0mRemoving intermediate container d54cedb5fed3\n",
      " ---> f2d784cfa8c1\n",
      "Step 6/6 : CMD \"./src/AWSome.exe\"\n",
      " ---> Running in 20f6fdfdc7c9\n",
      "Removing intermediate container 20f6fdfdc7c9\n",
      " ---> 512c2bca69d5\n",
      "Successfully built 512c2bca69d5\n",
      "Successfully tagged ezzobad/awsome-builder:ABIII\n"
     ]
    }
   ],
   "source": [
    "%%bash\n",
    "\n",
    "docker build -t ezzobad/awsome-builder:ABIII .\n",
    "\n"
   ]
  },
  {
   "cell_type": "markdown",
   "metadata": {},
   "source": [
    "# Test the Docker image locally:"
   ]
  },
  {
   "cell_type": "code",
   "execution_count": 175,
   "metadata": {},
   "outputs": [
    {
     "name": "stdout",
     "output_type": "stream",
     "text": [
      "REPOSITORY               TAG                 IMAGE ID            CREATED             SIZE\n",
      "ezzobad/awsome-builder   ABIII               512c2bca69d5        3 hours ago         273MB\n",
      "\n",
      "Now run a container based on the recently-created image:\n",
      "Hello team! I am a COBOL code running on AIX.\n"
     ]
    }
   ],
   "source": [
    "%%bash\n",
    "\n",
    "docker image ls ezzobad/awsome-builder\n",
    "\n",
    "echo -e \"\\nNow run a container based on the recently-created image:\"\n",
    "docker run ezzobad/awsome-builder:ABIII\n"
   ]
  },
  {
   "cell_type": "markdown",
   "metadata": {},
   "source": [
    "# Push the image to a Docker repository:\n",
    "https://hub.docker.com/repository/docker/ezzobad/awsome-builder"
   ]
  },
  {
   "cell_type": "code",
   "execution_count": 124,
   "metadata": {},
   "outputs": [
    {
     "name": "stdout",
     "output_type": "stream",
     "text": [
      "The push refers to repository [docker.io/ezzobad/awsome-builder]\n",
      "e0ea48cb3bd2: Preparing\n",
      "fbd64b537a93: Preparing\n",
      "8e8bf575e045: Preparing\n",
      "19d244b19bc6: Preparing\n",
      "4762552ad7d8: Preparing\n",
      "fbd64b537a93: Layer already exists\n",
      "8e8bf575e045: Layer already exists\n",
      "e0ea48cb3bd2: Layer already exists\n",
      "4762552ad7d8: Layer already exists\n",
      "19d244b19bc6: Layer already exists\n",
      "ABIII: digest: sha256:9b9aff06eddd5ea62e562972ded40c7365b7738911f20028c0961517eb55f771 size: 1363\n"
     ]
    }
   ],
   "source": [
    "%%bash\n",
    "\n",
    "docker push ezzobad/awsome-builder:ABIII\n"
   ]
  },
  {
   "cell_type": "markdown",
   "metadata": {},
   "source": [
    "# Verify the Docker repository:"
   ]
  },
  {
   "cell_type": "code",
   "execution_count": 123,
   "metadata": {},
   "outputs": [
    {
     "name": "stdout",
     "output_type": "stream",
     "text": [
      "Delete the local image:\n",
      "\n",
      "\n",
      "Now run a container. This must pull the image from the repo:\n",
      "\n",
      "Hello team! I am a COBOL code running on AIX.\n"
     ]
    }
   ],
   "source": [
    "%%bash\n",
    "\n",
    "echo -e \"Delete the local image:\\n\"\n",
    "docker image rm ezzobad/awsome-builder:ABIII --force\n",
    "\n",
    "echo -e \"\\nNow run a container. This must pull the image from the repo:\\n\"\n",
    "docker run ezzobad/awsome-builder:ABIII"
   ]
  },
  {
   "cell_type": "markdown",
   "metadata": {},
   "source": [
    "# Openshift environment on AWS:"
   ]
  },
  {
   "cell_type": "markdown",
   "metadata": {},
   "source": [
    "https://cloud.redhat.com/openshift/install/aws/installer-provisioned\n",
    "\n",
    "AWS OpenShift Installer on Mac:\n",
    "https://mirror.openshift.com/pub/openshift-v4/clients/ocp/latest/openshift-install-mac.tar.gz \n",
    "    \n",
    "OpenShift Client (OC) for Mac:\n",
    "https://mirror.openshift.com/pub/openshift-v4/clients/ocp/latest/openshift-client-mac.tar.gz \n",
    "\n"
   ]
  },
  {
   "cell_type": "markdown",
   "metadata": {},
   "source": [
    "# Explore the OpenShift cluster from CLI:"
   ]
  },
  {
   "cell_type": "code",
   "execution_count": 165,
   "metadata": {},
   "outputs": [
    {
     "name": "stdout",
     "output_type": "stream",
     "text": [
      "\n",
      "Check the cluster nodes:\n",
      "\n",
      "NAME                                         STATUS   ROLES    AGE     VERSION\n",
      "ip-10-0-164-121.us-west-1.compute.internal   Ready    master   23d     v1.19.0+43983cd\n",
      "ip-10-0-176-128.us-west-1.compute.internal   Ready    master   23d     v1.19.0+43983cd\n",
      "ip-10-0-181-167.us-west-1.compute.internal   Ready    worker   7m21s   v1.19.0+43983cd\n",
      "ip-10-0-190-130.us-west-1.compute.internal   Ready    worker   23d     v1.19.0+43983cd\n",
      "ip-10-0-222-169.us-west-1.compute.internal   Ready    master   23d     v1.19.0+43983cd\n",
      "ip-10-0-235-231.us-west-1.compute.internal   Ready    worker   23d     v1.19.0+43983cd\n",
      "\n",
      "Check the cluster resources:\n",
      "\n",
      "NAME                                         CPU(cores)   CPU%   MEMORY(bytes)   MEMORY%   \n",
      "ip-10-0-164-121.us-west-1.compute.internal   602m         17%    3900Mi          27%       \n",
      "ip-10-0-176-128.us-west-1.compute.internal   806m         23%    6137Mi          42%       \n",
      "ip-10-0-181-167.us-west-1.compute.internal   91m          6%     1102Mi          16%       \n",
      "ip-10-0-190-130.us-west-1.compute.internal   313m         20%    3452Mi          52%       \n",
      "ip-10-0-222-169.us-west-1.compute.internal   546m         15%    3636Mi          25%       \n",
      "ip-10-0-235-231.us-west-1.compute.internal   335m         22%    4046Mi          61%       \n",
      "\n",
      "Tweek the number of worker nodes (the hard way):\n",
      "\n",
      "oc edit machinesets.machine.openshift.io awsome-openshift-clus-f94d7-worker-us-west-1b -n openshift-machine-api\n",
      "\n",
      "Check the EC2 instances:\n",
      "\n",
      "https://tiny.amazon.com/48qywull/usweconsawsamazec2v2home\n",
      "\n",
      "Check the number of machines:\n",
      "\n",
      "NAME                                            DESIRED   CURRENT   READY   AVAILABLE   AGE\n",
      "awsome-openshift-clus-f94d7-worker-us-west-1b   3         3         2       2           23d\n",
      "awsome-openshift-clus-f94d7-worker-us-west-1c   1         1         1       1           23d\n"
     ]
    }
   ],
   "source": [
    "%%bash\n",
    "\n",
    "export PATH=/home/ec2-user/anaconda3/bin:$PATH:/home/ec2-user/bin\n",
    "        \n",
    "oc login --server https://api.awsome-openshift-cluster.awsome-builder.com:6443 \\\n",
    "--username kubeadmin --password QUPhE-eRKET-GojYB-aHJKu > /dev/null 2>&1\n",
    "\n",
    "oc new-project ab3project > /dev/null 2>&1\n",
    "\n",
    "echo -e \"\\nCheck the cluster nodes:\\n\"\n",
    "oc get nodes\n",
    "\n",
    "echo -e \"\\nCheck the cluster resources:\\n\"\n",
    "kubectl top nodes\n",
    "\n",
    "echo -e \"\\nTweek the number of worker nodes (the hard way):\\n\"\n",
    "echo 'oc edit machinesets.machine.openshift.io awsome-openshift-clus-f94d7-worker-us-west-1b -n openshift-machine-api'\n",
    "\n",
    "echo -e \"\\nCheck the EC2 instances:\\n\"\n",
    "echo 'https://tiny.amazon.com/48qywull/usweconsawsamazec2v2home'\n",
    "\n",
    "echo -e \"\\nCheck the number of machines:\\n\"\n",
    "oc get machinesets.machine.openshift.io -n openshift-machine-api\n",
    "\n",
    "# kubectl run -it ab3 --image=ezzobad/awsome-builder:ABIII -- bash    \n",
    "# kubectl exec ab3 -- ./src/AWSome.exe\n"
   ]
  },
  {
   "cell_type": "markdown",
   "metadata": {},
   "source": [
    "# Run a test container from the GUI Console\n",
    "https://tiny.amazon.com/hjtrscbz/oautappsawsoawsologi "
   ]
  },
  {
   "cell_type": "raw",
   "metadata": {},
   "source": [
    "apiVersion: v1\n",
    "kind: Pod\n",
    "metadata:\n",
    "  name: awsome-builder-test-pod\n",
    "  labels:\n",
    "    AB-phase: III\n",
    "  namespace: ab3project\n",
    "spec:\n",
    "  containers:\n",
    "    - name: hello-openshift\n",
    "      image: openshift/hello-openshift\n",
    "      ports:\n",
    "        - containerPort: 8080\n",
    "    - name: bastion\n",
    "      image: nginx\n",
    "      ports:\n",
    "        - containerPort: 80\n"
   ]
  },
  {
   "cell_type": "markdown",
   "metadata": {},
   "source": [
    "# Run the COBOL app from OpenShift CLI:"
   ]
  },
  {
   "cell_type": "code",
   "execution_count": 174,
   "metadata": {},
   "outputs": [
    {
     "name": "stdout",
     "output_type": "stream",
     "text": [
      "pod \"testpod\" force deleted\n",
      "pod/testpod created\n",
      "\n",
      "Hello team! I am a COBOL code running on AIX.\n"
     ]
    }
   ],
   "source": [
    "%%bash\n",
    "export PATH=/home/ec2-user/anaconda3/bin:$PATH:/home/ec2-user/bin\n",
    "\n",
    "oc delete pod testpod --force 2>/dev/null\n",
    "oc run testpod --image=ezzobad/awsome-builder:ABIII\n",
    "sleep 3\n",
    "echo \n",
    "oc logs testpod "
   ]
  },
  {
   "cell_type": "markdown",
   "metadata": {},
   "source": [
    "# Nest step: Automation of Docker image creation"
   ]
  },
  {
   "cell_type": "code",
   "execution_count": null,
   "metadata": {},
   "outputs": [],
   "source": []
  }
 ],
 "metadata": {
  "kernelspec": {
   "display_name": "conda_python3",
   "language": "python",
   "name": "conda_python3"
  },
  "language_info": {
   "codemirror_mode": {
    "name": "ipython",
    "version": 3
   },
   "file_extension": ".py",
   "mimetype": "text/x-python",
   "name": "python",
   "nbconvert_exporter": "python",
   "pygments_lexer": "ipython3",
   "version": "3.6.10"
  }
 },
 "nbformat": 4,
 "nbformat_minor": 4
}
