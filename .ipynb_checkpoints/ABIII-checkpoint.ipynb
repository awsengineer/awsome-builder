{
 "cells": [
  {
   "cell_type": "markdown",
   "metadata": {
    "slideshow": {
     "slide_type": "slide"
    }
   },
   "source": [
    "# AWSome Builder III (Mehdi Salehi)\n",
    "Containerize a COBOL app and move it to AWS"
   ]
  },
  {
   "cell_type": "markdown",
   "metadata": {},
   "source": [
    "### The existing legacy enviroment:"
   ]
  },
  {
   "cell_type": "code",
   "execution_count": 261,
   "metadata": {},
   "outputs": [
    {
     "name": "stdout",
     "output_type": "stream",
     "text": [
      "AIX\n",
      "7200-04-01-1939\n",
      "System Model: IBM,9009-22A\n",
      "Machine Serial Number: 78BABE0\n",
      "Processor Type: PowerPC_POWER9\n",
      "Processor Implementation Mode: POWER 9\n",
      "Processor Version: PV_9_Compat\n"
     ]
    }
   ],
   "source": [
    "%%bash\n",
    "\n",
    "export AIX_HOST=\"52.117.41.211\"\n",
    "\n",
    "export AIX_USER=\"ab3user\"\n",
    "\n",
    "export CMD=\"uname; oslevel -s; prtconf 2>/dev/null | head -5\"\n",
    "\n",
    "ssh ab3user@$AIX_HOST $CMD\n"
   ]
  },
  {
   "cell_type": "markdown",
   "metadata": {},
   "source": [
    "### Checking the COBOL Compiler on AIX host:"
   ]
  },
  {
   "cell_type": "code",
   "execution_count": 262,
   "metadata": {},
   "outputs": [
    {
     "name": "stdout",
     "output_type": "stream",
     "text": [
      "  Fileset                      Level  State      Description         \n",
      "  ----------------------------------------------------------------------------\n",
      "Path: /usr/lib/objrepos\n",
      "  cobol.rte                  5.1.0.0  COMMITTED  IBM COBOL for AIX Runtime\n"
     ]
    }
   ],
   "source": [
    "%%bash\n",
    "\n",
    "export AIX_HOST=\"52.117.41.211\"\n",
    "\n",
    "export AIX_USER=\"ab3user\"\n",
    "\n",
    "export CMD=\"lslpp -l cobol.rte\"\n",
    "\n",
    "ssh $AIX_USER@$AIX_HOST $CMD"
   ]
  },
  {
   "cell_type": "markdown",
   "metadata": {},
   "source": [
    "### Running a sample COBOL application on AIX (Edit the code in modern developement tools):\n",
    "https://github.com/awsengineer/awsome-builder/blob/main/AWSome.cbl"
   ]
  },
  {
   "cell_type": "code",
   "execution_count": 270,
   "metadata": {},
   "outputs": [
    {
     "name": "stdout",
     "output_type": "stream",
     "text": [
      "\n",
      "The COBOL code has been uploaded to the AIX host successfully.\n",
      "\n",
      "A Quick look at the code on AIX host:\n",
      "\n",
      "       IDENTIFICATION DIVISION.\n",
      "       PROGRAM-ID.  ABIII.\n",
      "       PROCEDURE DIVISION.\n",
      "       DisplayPrompt.\n",
      "           DISPLAY \"Good day! I am a freaking code running on AIX.\".\n",
      "           STOP RUN."
     ]
    }
   ],
   "source": [
    "%%bash\n",
    "export AIX_HOST=\"52.117.41.211\"\n",
    "export AIX_USER=\"ab3user\"\n",
    "export APP_DIR=\"/home/cobol\"\n",
    "export COBOL_FILE=\"AWSome.cbl\"\n",
    "\n",
    "#cat <<EOF >$COBOL_FILE\n",
    "#       IDENTIFICATION DIVISION.\n",
    "#      PROGRAM-ID.  ABIII.\n",
    "#\n",
    "#       PROCEDURE DIVISION.\n",
    "#       DisplayPrompt.\n",
    "#           DISPLAY \"Woohoo :) I am a COBOL code running on AIX!\".\n",
    "#           STOP RUN.\n",
    "#EOF\n",
    "\n",
    "git pull > /dev/null 2>&1\n",
    "\n",
    "scp $COBOL_FILE $AIX_USER@$AIX_HOST:$APP_DIR && echo -e \"\\nThe COBOL code has been uploaded to the AIX host successfully.\"\n",
    "\n",
    "export CMD=\"echo -e '\\nA Quick look at the code on AIX host:\\n' ;cat ${APP_DIR}/${COBOL_FILE}\"\n",
    "\n",
    "ssh $AIX_USER@$AIX_HOST $CMD"
   ]
  },
  {
   "cell_type": "markdown",
   "metadata": {},
   "source": [
    "### Compile the COBOL code on AIX:"
   ]
  },
  {
   "cell_type": "code",
   "execution_count": 271,
   "metadata": {},
   "outputs": [
    {
     "name": "stdout",
     "output_type": "stream",
     "text": [
      "Remove the exising complied app...\n",
      "\n",
      "Compile the COBOL code...\n",
      "\n",
      "PP 5724-Z87 IBM COBOL for AIX  5.1.0 in progress ...\n",
      "End of compilation 1,  program ABIII,  no statements flagged.\n",
      "\n",
      "Check the output binary file:\n",
      "\n",
      "/home/cobol/AWSome.exe: executable (RISC System/6000) or object module not stripped\n",
      "\n",
      "Run the executable file:\n",
      "\n",
      "Good day! I am a freaking code running on AIX.\n"
     ]
    }
   ],
   "source": [
    "%%bash\n",
    "export AIX_HOST=\"52.117.41.211\"\n",
    "export AIX_USER=\"ab3user\"\n",
    "export APP_DIR=\"/home/cobol\"\n",
    "export COBOL_CODE=\"$APP_DIR/AWSome.cbl\"\n",
    "export EXEC_FILE=\"$APP_DIR/AWSome.exe\"\n",
    "\n",
    "ssh $AIX_USER@${AIX_HOST} \"\n",
    "\n",
    "echo -e 'Remove the exising complied app...\\n'\n",
    "rm -f $EXEC_FILE  2>/dev/null \n",
    "\n",
    "echo -e 'Compile the COBOL code...\\n'\n",
    "\n",
    "cob2 $COBOL_CODE -o $EXEC_FILE #>/dev/null\n",
    "\n",
    "if [ -f $EXEC_FILE ]\n",
    "then \n",
    "    echo -e '\\nCheck the output binary file:\\n'\n",
    "    file $EXEC_FILE\n",
    "    echo -e '\\nRun the executable file:\\n'\n",
    "    $EXEC_FILE;  \n",
    "else\n",
    "    echo \"Compile error\" \n",
    "fi\"\n"
   ]
  },
  {
   "cell_type": "markdown",
   "metadata": {},
   "source": [
    "### Run the same code on a Linux container:"
   ]
  },
  {
   "cell_type": "code",
   "execution_count": 272,
   "metadata": {},
   "outputs": [
    {
     "name": "stdout",
     "output_type": "stream",
     "text": [
      "\n",
      "The contents of the Dockerfile:\n",
      "-------------------------------\n",
      "\n",
      "FROM debian:latest\n",
      "\n",
      "RUN apt-get update && apt-get install -y open-cobol\n",
      "\n",
      "RUN mkdir /src\n",
      "\n",
      "COPY ./AWSome.cbl /src\n",
      "\n",
      "RUN cd /src && cobc -free -x -o AWSome.exe AWSome.cbl\n",
      "\n",
      "CMD \"./src/AWSome.exe\"\n"
     ]
    }
   ],
   "source": [
    "%%bash\n",
    "\n",
    "if [ -f AWSome.cbl ]\n",
    "then \n",
    "    echo -e \"\\nThe contents of the Dockerfile:\"\n",
    "    echo -e \"-------------------------------\\n\"\n",
    "    cat Dockerfile\n",
    "else\n",
    "    echo \"The COBOL source code (AWSome.cbl) does not exist.\"\n",
    "fi"
   ]
  },
  {
   "cell_type": "markdown",
   "metadata": {},
   "source": [
    "### Create the Docker image:"
   ]
  },
  {
   "cell_type": "code",
   "execution_count": 273,
   "metadata": {},
   "outputs": [
    {
     "name": "stdout",
     "output_type": "stream",
     "text": [
      "Sending build context to Docker daemon  504.8kB\n",
      "Step 1/6 : FROM debian:latest\n",
      " ---> e7d08cddf791\n",
      "Step 2/6 : RUN apt-get update && apt-get install -y open-cobol\n",
      " ---> Using cache\n",
      " ---> 8470b97fdd69\n",
      "Step 3/6 : RUN mkdir /src\n",
      " ---> Using cache\n",
      " ---> 1713072aa2c4\n",
      "Step 4/6 : COPY ./AWSome.cbl /src\n",
      " ---> 98630503afdd\n",
      "Step 5/6 : RUN cd /src && cobc -free -x -o AWSome.exe AWSome.cbl\n",
      " ---> Running in f7f973c98d18\n",
      "\u001b[91mAWSome.cbl: 6: warning: line not terminated by a newline\n",
      "\u001b[0mRemoving intermediate container f7f973c98d18\n",
      " ---> 4049fc333bbb\n",
      "Step 6/6 : CMD \"./src/AWSome.exe\"\n",
      " ---> Running in 2498db082eee\n",
      "Removing intermediate container 2498db082eee\n",
      " ---> f8ed7a02fbda\n",
      "Successfully built f8ed7a02fbda\n",
      "Successfully tagged ezzobad/awsome-builder:ABIII\n"
     ]
    }
   ],
   "source": [
    "%%bash\n",
    "\n",
    "docker -v >/dev/null 2>&1\n",
    "\n",
    "if [ $? -eq \"0\" ] && [ -f ./Dockerfile ]\n",
    "then\n",
    "    docker build -t ezzobad/awsome-builder:ABIII .\n",
    "else\n",
    "    echo -e \"\\nDocker environemnt is not ready.\"\n",
    "fi\n",
    "\n",
    "\n",
    "\n"
   ]
  },
  {
   "cell_type": "markdown",
   "metadata": {},
   "source": [
    "### Test the Docker image locally:"
   ]
  },
  {
   "cell_type": "code",
   "execution_count": 274,
   "metadata": {},
   "outputs": [
    {
     "name": "stdout",
     "output_type": "stream",
     "text": [
      "\n",
      "The details of the local Docker image:\n",
      "\n",
      "REPOSITORY               TAG                 IMAGE ID            CREATED             SIZE\n",
      "ezzobad/awsome-builder   ABIII               f8ed7a02fbda        17 seconds ago      273MB\n",
      "\n",
      "Now run a container based on the recently-created image:\n",
      "\n",
      "Good day! I am a freaking code running on AIX.\n"
     ]
    }
   ],
   "source": [
    "%%bash\n",
    "\n",
    "echo -e \"\\nThe details of the local Docker image:\\n\"\n",
    "docker image ls ezzobad/awsome-builder:ABIII\n",
    "\n",
    "echo -e \"\\nNow run a container based on the recently-created image:\\n\"\n",
    "docker run ezzobad/awsome-builder:ABIII\n"
   ]
  },
  {
   "cell_type": "markdown",
   "metadata": {},
   "source": [
    "### Push the image to a Docker repository:\n",
    "https://hub.docker.com/repository/docker/ezzobad/awsome-builder"
   ]
  },
  {
   "cell_type": "code",
   "execution_count": 278,
   "metadata": {},
   "outputs": [
    {
     "name": "stdout",
     "output_type": "stream",
     "text": [
      "The push refers to repository [docker.io/ezzobad/awsome-builder]\n",
      "eda15e7a56dc: Preparing\n",
      "1168361bc773: Preparing\n",
      "34baf94dc055: Preparing\n",
      "97141eda858f: Preparing\n",
      "4762552ad7d8: Preparing\n",
      "4762552ad7d8: Layer already exists\n",
      "97141eda858f: Layer already exists\n",
      "34baf94dc055: Layer already exists\n",
      "1168361bc773: Layer already exists\n",
      "eda15e7a56dc: Layer already exists\n",
      "ABIII: digest: sha256:b4ed60032bef2685fa876e730ebe00d0d3ad7857a15cde0a9af46ea60f4578f8 size: 1363\n"
     ]
    }
   ],
   "source": [
    "%%bash\n",
    "\n",
    "docker push ezzobad/awsome-builder:ABIII\n"
   ]
  },
  {
   "cell_type": "markdown",
   "metadata": {},
   "source": [
    "### Verify the Docker repository:"
   ]
  },
  {
   "cell_type": "code",
   "execution_count": 279,
   "metadata": {},
   "outputs": [
    {
     "name": "stdout",
     "output_type": "stream",
     "text": [
      "Delete the local image:\n",
      "\n",
      "Untagged: ezzobad/awsome-builder:ABIII\n",
      "Untagged: ezzobad/awsome-builder@sha256:b4ed60032bef2685fa876e730ebe00d0d3ad7857a15cde0a9af46ea60f4578f8\n",
      "Deleted: sha256:f8ed7a02fbda1b9327f7e4ea94a5b37f6bd1561781a5abb52ddd42ef4955ed10\n",
      "Deleted: sha256:4049fc333bbb7697653bf5bbe3c0590ba2174dc356cbbb760218a1429ffc0529\n",
      "Deleted: sha256:98630503afdd155aad39b80b05a72d9ab753a04c8e712a5b688de949ed23e51c\n",
      "\n",
      "Now run a container. This will pull the image from the repo:\n",
      "\n",
      "Good day! I am a freaking code running on AIX.\n"
     ]
    }
   ],
   "source": [
    "%%bash\n",
    "\n",
    "echo -e \"Delete the local image:\\n\"\n",
    "docker image rm ezzobad/awsome-builder:ABIII --force\n",
    "\n",
    "echo -e \"\\nNow run a container. This will pull the image from the repo:\\n\"\n",
    "docker run ezzobad/awsome-builder:ABIII 2>/dev/null"
   ]
  },
  {
   "cell_type": "markdown",
   "metadata": {},
   "source": [
    "## Prepare the ROSA environment\n",
    "https://cloud.redhat.com/openshift/token/rosa\n",
    "\n",
    "Get the \"Offline Access Token\" to authenticate against your Red Hat OpenShift Cluster Manager account.\n"
   ]
  },
  {
   "cell_type": "code",
   "execution_count": 329,
   "metadata": {},
   "outputs": [
    {
     "name": "stdout",
     "output_type": "stream",
     "text": [
      "ROSA command-line utility and ROSA Client are already installed.\n",
      "\n",
      "Verifying and initialze the ROSA environment:\n",
      "\n",
      "\u001b[0;36mI:\u001b[m Logged in as 'awsomebuilder' on 'https://api.openshift.com'\n",
      "\u001b[0;36mI:\u001b[m Validating AWS credentials...\n",
      "\u001b[0;36mI:\u001b[m AWS credentials are valid!\n",
      "\u001b[0;36mI:\u001b[m Validating SCP policies...\n",
      "\u001b[0;36mI:\u001b[m AWS SCP policies ok\n",
      "\u001b[0;36mI:\u001b[m Validating AWS quota...\n",
      "\u001b[0;36mI:\u001b[m AWS quota ok\n",
      "\u001b[0;36mI:\u001b[m Ensuring cluster administrator user 'osdCcsAdmin'...\n",
      "\u001b[0;36mI:\u001b[m Admin user 'osdCcsAdmin' already exists!\n",
      "\u001b[0;36mI:\u001b[m Validating SCP policies for 'osdCcsAdmin'...\n",
      "\u001b[0;36mI:\u001b[m AWS SCP policies ok\n",
      "\u001b[0;36mI:\u001b[m Validating cluster creation...\n",
      "\u001b[0;33mW:\u001b[m Cluster creation failed. If you create a cluster, it should fail with the following error:\n",
      "'create_moa_clusters' capability is not set for this account\n",
      "\u001b[0;36mI:\u001b[m Verifying whether OpenShift command-line tool is available...\n",
      "\u001b[0;36mI:\u001b[m Current OpenShift Client Version: 4.6.13\n"
     ]
    }
   ],
   "source": [
    "%%bash \n",
    "export region=\"eu-west-3\"\n",
    "\n",
    "if [ ! -f /usr/local/bin/rosa ] || [ ! -f /usr/local/bin/oc ]\n",
    "then\n",
    "    # The the latest version from this page: https://github.com/openshift/rosa\n",
    "    sudo wget -nv https://github.com/openshift/rosa/releases/download/v0.1.6/rosa-linux-amd64 \\\n",
    "        -O /usr/local/bin/rosa \\\n",
    "        -o /dev/null\n",
    "    sudo chmod +x /usr/local/bin/rosa\n",
    "    \n",
    "    # Download the OpenShift Client:\n",
    "    rosa download oc >/dev/null 2>&1\n",
    "    tar xvzf openshift-client-linux.tar.gz >/dev/null 2>&1\n",
    "    sudo cp oc kubectl /usr/local/bin/\n",
    "    rm -f oc kubectl openshift-client-linux.tar.gz\n",
    "    sudo -- sh -c \"/usr/local/bin/oc completion bash > /etc/bash_completion.d/oc\"\n",
    "    sudo -- sh -c \"/usr/local/bin/kubectl completion bash > /etc/bash_completion.d/kubectl\"\n",
    "    sudo -- sh -c \"/usr/local/bin/rosa completion > /etc/bash_completion.d/rosa\"\n",
    "    echo -e \"ROSA command-line utility and ROSA Client have been installed successfully.\\n\"\n",
    "else\n",
    "    echo -e \"ROSA command-line utility and ROSA Client are already installed.\\n\"\n",
    "fi\n",
    "\n",
    "echo -e \"Verifying and initialze the ROSA environment:\\n\"\n",
    "\n",
    "# rosa login --token=\"get the token from https://cloud.redhat.com/openshift/token/rosa\"\n",
    "rosa init"
   ]
  },
  {
   "cell_type": "markdown",
   "metadata": {},
   "source": [
    "### ROSA Alternative on AWS\n",
    "https://cloud.redhat.com/openshift/install/aws/installer-provisioned"
   ]
  },
  {
   "cell_type": "code",
   "execution_count": 330,
   "metadata": {},
   "outputs": [
    {
     "name": "stdout",
     "output_type": "stream",
     "text": [
      "{\n",
      "    \"Quota\": {\n",
      "        \"ServiceCode\": \"ec2\",\n",
      "        \"ServiceName\": \"Amazon Elastic Compute Cloud (Amazon EC2)\",\n",
      "        \"QuotaArn\": \"arn:aws:servicequotas:us-west-1:539080165904:ec2/L-1216C47A\",\n",
      "        \"QuotaCode\": \"L-1216C47A\",\n",
      "        \"QuotaName\": \"Running On-Demand Standard (A, C, D, H, I, M, R, T, Z) instances\",\n",
      "        \"Value\": 640.0,\n",
      "        \"Unit\": \"None\",\n",
      "        \"Adjustable\": true,\n",
      "        \"GlobalQuota\": false,\n",
      "        \"UsageMetric\": {\n",
      "            \"MetricNamespace\": \"AWS/Usage\",\n",
      "            \"MetricName\": \"ResourceCount\",\n",
      "            \"MetricDimensions\": {\n",
      "                \"Class\": \"Standard/OnDemand\",\n",
      "                \"Resource\": \"vCPU\",\n",
      "                \"Service\": \"EC2\",\n",
      "                \"Type\": \"Resource\"\n",
      "            },\n",
      "            \"MetricStatisticRecommendation\": \"Maximum\"\n",
      "        }\n",
      "    }\n",
      "}\n"
     ]
    },
    {
     "name": "stderr",
     "output_type": "stream",
     "text": [
      "bash: line 2: Check: command not found\n"
     ]
    }
   ],
   "source": [
    "%%bash\n",
    "\n",
    "Check your AWS quota:\n",
    "\n",
    "aws service-quotas get-service-quota --service-code ec2 --quota-code L-1216C47A --rgion=$region\n",
    "\n",
    "#https://cloud.redhat.com/openshift/install/aws/installer-provisioned\n",
    "\n",
    "#AWS OpenShift Installer on Mac:\n",
    "#https://mirror.openshift.com/pub/openshift-v4/clients/ocp/latest/openshift-install-mac.tar.gz \n",
    "    \n",
    "#OpenShift Client (OC) for Mac:\n",
    "#https://mirror.openshift.com/pub/openshift-v4/clients/ocp/latest/openshift-client-mac.tar.gz \n",
    "\n"
   ]
  },
  {
   "cell_type": "markdown",
   "metadata": {},
   "source": [
    "### Explore the OpenShift cluster from CLI:"
   ]
  },
  {
   "cell_type": "code",
   "execution_count": 209,
   "metadata": {},
   "outputs": [
    {
     "name": "stdout",
     "output_type": "stream",
     "text": [
      "\n",
      "Check the cluster nodes:\n",
      "\n",
      "NAME                                         STATUS   ROLES    AGE    VERSION\n",
      "ip-10-0-164-121.us-west-1.compute.internal   Ready    master   23d    v1.19.0+43983cd\n",
      "ip-10-0-176-128.us-west-1.compute.internal   Ready    master   23d    v1.19.0+43983cd\n",
      "ip-10-0-181-167.us-west-1.compute.internal   Ready    worker   164m   v1.19.0+43983cd\n",
      "ip-10-0-186-141.us-west-1.compute.internal   Ready    worker   156m   v1.19.0+43983cd\n",
      "ip-10-0-190-130.us-west-1.compute.internal   Ready    worker   23d    v1.19.0+43983cd\n",
      "ip-10-0-222-169.us-west-1.compute.internal   Ready    master   23d    v1.19.0+43983cd\n",
      "ip-10-0-235-231.us-west-1.compute.internal   Ready    worker   23d    v1.19.0+43983cd\n",
      "\n",
      "Check the cluster resources:\n",
      "\n",
      "NAME                                         CPU(cores)   CPU%   MEMORY(bytes)   MEMORY%   \n",
      "ip-10-0-164-121.us-west-1.compute.internal   599m         17%    3912Mi          27%       \n",
      "ip-10-0-176-128.us-west-1.compute.internal   1030m        29%    6139Mi          42%       \n",
      "ip-10-0-181-167.us-west-1.compute.internal   101m         6%     1290Mi          19%       \n",
      "ip-10-0-186-141.us-west-1.compute.internal   123m         8%     1177Mi          17%       \n",
      "ip-10-0-190-130.us-west-1.compute.internal   545m         36%    3433Mi          52%       \n",
      "ip-10-0-222-169.us-west-1.compute.internal   681m         19%    3643Mi          25%       \n",
      "ip-10-0-235-231.us-west-1.compute.internal   507m         33%    3827Mi          58%       \n",
      "\n",
      "Tweek the number of worker nodes (the hard way):\n",
      "\n",
      "oc edit machinesets.machine.openshift.io awsome-openshift-clus-f94d7-worker-us-west-1b -n openshift-machine-api\n",
      "\n",
      "Check the EC2 instances:\n",
      "\n",
      "https://tiny.amazon.com/48qywull/usweconsawsamazec2v2home\n",
      "\n",
      "Check the number of machines:\n",
      "\n",
      "NAME                                            DESIRED   CURRENT   READY   AVAILABLE   AGE\n",
      "awsome-openshift-clus-f94d7-worker-us-west-1b   3         3         3       3           23d\n",
      "awsome-openshift-clus-f94d7-worker-us-west-1c   1         1         1       1           23d\n"
     ]
    }
   ],
   "source": [
    "%%bash\n",
    "\n",
    "export PATH=/home/ec2-user/anaconda3/bin:$PATH:/home/ec2-user/bin\n",
    "        \n",
    "oc login --server https://api.awsome-openshift-cluster.awsome-builder.com:6443 \\\n",
    "--username kubeadmin --password QUPhE-eRKET-GojYB-aHJKu > /dev/null 2>&1\n",
    "\n",
    "oc new-project ab3project > /dev/null 2>&1\n",
    "\n",
    "echo -e \"\\nCheck the cluster nodes:\\n\"\n",
    "oc get nodes\n",
    "\n",
    "echo -e \"\\nCheck the cluster resources:\\n\"\n",
    "kubectl top nodes\n",
    "\n",
    "echo -e \"\\nTweek the number of worker nodes (the hard way):\\n\"\n",
    "echo 'oc edit machinesets.machine.openshift.io awsome-openshift-clus-f94d7-worker-us-west-1b -n openshift-machine-api'\n",
    "\n",
    "echo -e \"\\nCheck the EC2 instances:\\n\"\n",
    "echo 'https://tiny.amazon.com/48qywull/usweconsawsamazec2v2home'\n",
    "\n",
    "echo -e \"\\nCheck the number of machines:\\n\"\n",
    "oc get machinesets.machine.openshift.io -n openshift-machine-api\n",
    "\n",
    "# kubectl run -it ab3 --image=ezzobad/awsome-builder:ABIII -- bash    \n",
    "# kubectl exec ab3 -- ./src/AWSome.exe\n"
   ]
  },
  {
   "cell_type": "markdown",
   "metadata": {},
   "source": [
    "### Run a test container from the GUI Console\n",
    "https://tiny.amazon.com/hjtrscbz/oautappsawsoawsologi "
   ]
  },
  {
   "cell_type": "raw",
   "metadata": {},
   "source": [
    "apiVersion: v1\n",
    "kind: Pod\n",
    "metadata:\n",
    "  name: awsome-builder-test-pod\n",
    "  labels:\n",
    "    AB-phase: III\n",
    "  namespace: ab3project\n",
    "spec:\n",
    "  containers:\n",
    "    - name: hello-openshift\n",
    "      image: openshift/hello-openshift\n",
    "      ports:\n",
    "        - containerPort: 8080\n",
    "    - name: bastion\n",
    "      image: nginx\n",
    "      ports:\n",
    "        - containerPort: 80\n"
   ]
  },
  {
   "cell_type": "markdown",
   "metadata": {},
   "source": [
    "### Run the COBOL app from OpenShift CLI:"
   ]
  },
  {
   "cell_type": "code",
   "execution_count": 210,
   "metadata": {},
   "outputs": [
    {
     "name": "stdout",
     "output_type": "stream",
     "text": [
      "pod/testpod created\n",
      "\n",
      "Hiii! I am a legacy COBOL code running on AIX.\n"
     ]
    }
   ],
   "source": [
    "%%bash\n",
    "export PATH=/home/ec2-user/anaconda3/bin:$PATH:/home/ec2-user/bin\n",
    "\n",
    "oc delete pod testpod --force 2>/dev/null\n",
    "oc run testpod --image=ezzobad/awsome-builder:ABIII --restart Never\n",
    "sleep 3\n",
    "echo \n",
    "oc logs testpod "
   ]
  },
  {
   "cell_type": "markdown",
   "metadata": {},
   "source": [
    "# Nest step: Automation of Docker image creation"
   ]
  },
  {
   "cell_type": "code",
   "execution_count": 211,
   "metadata": {},
   "outputs": [
    {
     "name": "stdout",
     "output_type": "stream",
     "text": [
      "Already up to date.\n",
      "[main 87ed4b0] Let's trigger Docker image build\n",
      " 2 files changed, 123 insertions(+), 334 deletions(-)\n",
      "https://hub.docker.com/repository/docker/ezzobad/awsome-builder/builds/edit\n",
      "\n"
     ]
    },
    {
     "name": "stderr",
     "output_type": "stream",
     "text": [
      "To https://github.com/awsengineer/awsome-builder.git\n",
      "   a9d8288..87ed4b0  main -> main\n"
     ]
    }
   ],
   "source": [
    "%%bash\n",
    "export PATH=/home/ec2-user/anaconda3/bin:$PATH:/home/ec2-user/bin\n",
    "export COBOL_FILE=\"AWSome.cbl\"\n",
    "\n",
    "git pull \n",
    "\n",
    "cat <<EOF >$COBOL_FILE\n",
    "      IDENTIFICATION DIVISION.\n",
    "      PROGRAM-ID.  ABIII.\n",
    "\n",
    "       PROCEDURE DIVISION.\n",
    "       DisplayPrompt.\n",
    "           DISPLAY \"OK! Let's automate!\".\n",
    "           STOP RUN.\n",
    "EOF\n",
    "\n",
    "#git add $COBOL_FILE\n",
    "\n",
    "git commit -a -m \"Let's trigger Docker image build\"\n",
    "git push\n",
    "\n",
    "# Create a Dockerhub build to trigger an action when Dockerfile is updated on Github\n",
    "# Use the ssh-key of the Dockerhub repository to authenticate with Github\n",
    "echo -e \"https://hub.docker.com/repository/docker/ezzobad/awsome-builder/builds\\n\"\n"
   ]
  },
  {
   "cell_type": "markdown",
   "metadata": {},
   "source": [
    "# Create a Pod based on the lastest image:"
   ]
  },
  {
   "cell_type": "code",
   "execution_count": 212,
   "metadata": {},
   "outputs": [
    {
     "name": "stdout",
     "output_type": "stream",
     "text": [
      "Delete the old Pod if exists...\n",
      "\n",
      "pod \"newpod\" force deleted\n",
      "Create a Pod based on the latest image...\n",
      "\n",
      "pod/newpod created\n",
      "Wait until the Pod gets ready...\n",
      "\n",
      "Get the application's log:\n",
      "\n",
      "OK! Let's automate!\n"
     ]
    }
   ],
   "source": [
    "%%bash\n",
    "export PATH=/home/ec2-user/anaconda3/bin:$PATH:/home/ec2-user/bin\n",
    "\n",
    "echo -e \"Delete the old Pod if exists...\\n\"\n",
    "oc delete pod newpod --force 2>/dev/null\n",
    "\n",
    "echo -e \"Create a Pod based on the latest image...\\n\"\n",
    "oc run newpod --image=ezzobad/awsome-builder:ABIII \\\n",
    "--image-pull-policy=Always --restart=Never \n",
    "\n",
    "echo -e \"Wait until the Pod gets ready...\\n\"\n",
    "while [ `oc get pod newpod -o jsonpath=\"{.status.phase}\"` != \"Succeeded\" ]\n",
    "do \n",
    "sleep 1; \n",
    "done\n",
    "\n",
    "echo -e \"Get the application's log:\\n\"\n",
    "oc logs newpod"
   ]
  },
  {
   "cell_type": "markdown",
   "metadata": {},
   "source": [
    "# Phase 2: Running the COBOL app in Lambda"
   ]
  },
  {
   "cell_type": "markdown",
   "metadata": {},
   "source": [
    "### Configure ECR and push the image into it"
   ]
  },
  {
   "cell_type": "code",
   "execution_count": 257,
   "metadata": {},
   "outputs": [
    {
     "name": "stdout",
     "output_type": "stream",
     "text": [
      "The KMS key already exists\n",
      "The ECR repository already exists\n",
      "Login Succeeded\n",
      "Sending build context to Docker daemon  432.1kB\n",
      "Step 1/6 : FROM debian:latest\n",
      " ---> e7d08cddf791\n",
      "Step 2/6 : RUN apt-get update && apt-get install -y open-cobol\n",
      " ---> Using cache\n",
      " ---> 8470b97fdd69\n",
      "Step 3/6 : RUN mkdir /src\n",
      " ---> Using cache\n",
      " ---> 1713072aa2c4\n",
      "Step 4/6 : COPY ./AWSome.cbl /src\n",
      " ---> Using cache\n",
      " ---> 52847c02732c\n",
      "Step 5/6 : RUN cd /src && cobc -free -x -o AWSome.exe AWSome.cbl\n",
      " ---> Using cache\n",
      " ---> 5bd279ce72d0\n",
      "Step 6/6 : CMD \"./src/AWSome.exe\"\n",
      " ---> Using cache\n",
      " ---> 28124d5289ec\n",
      "Successfully built 28124d5289ec\n",
      "Successfully tagged ab3-ecr-repo:latest\n",
      "The push refers to repository [539080165904.dkr.ecr.us-west-1.amazonaws.com/ab3-ecr-repo]\n",
      "80677dd977d4: Preparing\n",
      "42fbab863011: Preparing\n",
      "34baf94dc055: Preparing\n",
      "97141eda858f: Preparing\n",
      "4762552ad7d8: Preparing\n",
      "80677dd977d4: Layer already exists\n",
      "34baf94dc055: Layer already exists\n",
      "4762552ad7d8: Layer already exists\n",
      "42fbab863011: Layer already exists\n",
      "97141eda858f: Layer already exists\n",
      "ABIII: digest: sha256:4c0ea451d7209e25c2f8aa64c6a9ba57d6160a3c1ca2851ebdf9e913f28649cc size: 1363\n",
      "\n",
      "Create the Lambda execution role...\n",
      "\n",
      "The Lambda execution role (ab3_lambda_exec_role) already exists\n",
      "\n",
      "\n",
      "\n"
     ]
    },
    {
     "name": "stderr",
     "output_type": "stream",
     "text": [
      "WARNING! Your password will be stored unencrypted in /home/ec2-user/.docker/config.json.\n",
      "Configure a credential helper to remove this warning. See\n",
      "https://docs.docker.com/engine/reference/commandline/login/#credentials-store\n",
      "\n"
     ]
    }
   ],
   "source": [
    "%%bash\n",
    "export PATH=/home/ec2-user/anaconda3/bin:$PATH:/home/ec2-user/bin\n",
    "export key_alias='ab3-kms-key120'\n",
    "export region=\"us-west-1\"\n",
    "export ecr_repo=\"ab3-ecr-repo\"\n",
    "export image_tag=\"ABIII\"\n",
    "export full_image_uri=\"539080165904.dkr.ecr.$region.amazonaws.com/$ecr_repo:$image_tag\"\n",
    "export lambda_exec_role=\"ab3_lambda_exec_role\"\n",
    "\n",
    "aws s3 ls >/dev/null 2>&1 || echo \"AWS CLI has not been configured properly.\"\n",
    "\n",
    "aws kms list-aliases --query Aliases[].AliasName | grep \"\\\"alias/$key_alias\\\"\\,\" > /dev/null\n",
    "\n",
    "if [ $? -eq 0 ]\n",
    "then\n",
    "    echo \"The KMS key already exists\"\n",
    "else\n",
    "    echo -e \"\\nCreate a KMS key...\"\n",
    "    export kms_key_id=`aws kms create-key --customer-master-key-spec SYMMETRIC_DEFAULT \\\n",
    "            --key-usage ENCRYPT_DECRYPT --query KeyMetadata.KeyId --output text`\n",
    "    aws kms create-alias --alias-name \"alias/$key_alias\" --region $region --target-key-id $kms_key_id\n",
    "fi\n",
    "\n",
    "aws ecr describe-repositories --query repositories[].repositoryName | grep $ecr_repo >/dev/null\n",
    "if [ $? -eq 0 ]\n",
    "then\n",
    "    echo \"The ECR repository already exists\"\n",
    "else\n",
    "    aws ecr create-repository --repository-name $ecr_repo --region us-west-1 \\\n",
    "            --encryption-configuration encryptionType=KMS,kmsKey=\"alias/$key_alias\" && \\\n",
    "            echo -e \"\\nThe ECR repo ($ecr_repo) was created successfully.\\n\"\n",
    "fi\n",
    "\n",
    "aws ecr get-login-password --region $region | docker login --username AWS --password-stdin 539080165904.dkr.ecr.$region.amazonaws.com\n",
    "\n",
    "docker build -t $ecr_repo .\n",
    "\n",
    "docker tag $ecr_repo:latest $full_image_uri\n",
    "\n",
    "docker push $full_image_uri\n",
    "\n",
    "rm -f /home/ec2-user/.docker/config.json\n",
    "\n",
    "echo -e \"\\nCreate the Lambda execution role...\\n\"\n",
    "\n",
    "cat <<EOF >trust-policy.json\n",
    "{\n",
    "  \"Version\": \"2012-10-17\",\n",
    "  \"Statement\": [\n",
    "    {\n",
    "      \"Effect\": \"Allow\",\n",
    "      \"Principal\": {\n",
    "        \"Service\": \"lambda.amazonaws.com\"\n",
    "      },\n",
    "      \"Action\": \"sts:AssumeRole\"\n",
    "    }\n",
    "  ]\n",
    "}\n",
    "EOF\n",
    "\n",
    "aws iam list-roles --query Roles[].RoleName | grep \"\\\"$lambda_exec_role\\\"\\,\" > /dev/null\n",
    "\n",
    "if [ $? -eq 0 ]\n",
    "then\n",
    "    echo \"The Lambda execution role ($lambda_exec_role) already exists\"\n",
    "else\n",
    "    aws iam create-role --role-name $lambda_exec_role --region $region \\\n",
    "        --assume-role-policy-document file://trust-policy.json\n",
    "fi\n",
    "\n",
    "echo -e \"\"\n",
    "\n",
    "echo -e \"\"\n",
    "\n",
    "echo -e \"\"\n",
    "\n"
   ]
  },
  {
   "cell_type": "code",
   "execution_count": null,
   "metadata": {},
   "outputs": [],
   "source": []
  },
  {
   "cell_type": "code",
   "execution_count": null,
   "metadata": {},
   "outputs": [],
   "source": []
  }
 ],
 "metadata": {
  "celltoolbar": "Slideshow",
  "kernelspec": {
   "display_name": "conda_python3",
   "language": "python",
   "name": "conda_python3"
  },
  "language_info": {
   "codemirror_mode": {
    "name": "ipython",
    "version": 3
   },
   "file_extension": ".py",
   "mimetype": "text/x-python",
   "name": "python",
   "nbconvert_exporter": "python",
   "pygments_lexer": "ipython3",
   "version": "3.6.10"
  }
 },
 "nbformat": 4,
 "nbformat_minor": 4
}
