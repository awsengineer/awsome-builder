{
 "cells": [
  {
   "cell_type": "markdown",
   "metadata": {},
   "source": [
    "# The legacy AIX enviroment:"
   ]
  },
  {
   "cell_type": "code",
   "execution_count": 7,
   "metadata": {},
   "outputs": [
    {
     "name": "stdout",
     "output_type": "stream",
     "text": [
      "AIX\n",
      "7200-04-01-1939\n",
      "System Model: IBM,9009-22A\n",
      "Machine Serial Number: 78BABE0\n",
      "Processor Type: PowerPC_POWER9\n",
      "Processor Implementation Mode: POWER 9\n"
     ]
    }
   ],
   "source": [
    "%%bash\n",
    "\n",
    "export AIX_HOST=\"52.117.41.211\"\n",
    "\n",
    "export AIX_USER=\"ab3user\"\n",
    "\n",
    "export CMD=\"uname; oslevel -s; prtconf 2>/dev/null | head -5\"\n",
    "\n",
    "ssh ab3user@$AIX_HOST $CMD\n"
   ]
  },
  {
   "cell_type": "markdown",
   "metadata": {},
   "source": [
    "# Checking the COBOL Compiler on AIX host:"
   ]
  },
  {
   "cell_type": "code",
   "execution_count": 8,
   "metadata": {},
   "outputs": [
    {
     "name": "stdout",
     "output_type": "stream",
     "text": [
      "  Fileset                      Level  State      Description         \n",
      "  ----------------------------------------------------------------------------\n",
      "Path: /usr/lib/objrepos\n",
      "  cobol.rte                  5.1.0.0  COMMITTED  IBM COBOL for AIX Runtime\n"
     ]
    }
   ],
   "source": [
    "%%bash\n",
    "\n",
    "export AIX_HOST=\"52.117.41.211\"\n",
    "\n",
    "export AIX_USER=\"ab3user\"\n",
    "\n",
    "export CMD=\"lslpp -l cobol.rte\"\n",
    "\n",
    "ssh $AIX_USER@$AIX_HOST $CMD"
   ]
  },
  {
   "cell_type": "markdown",
   "metadata": {},
   "source": [
    "# Sample COBOL application:"
   ]
  },
  {
   "cell_type": "code",
   "execution_count": 172,
   "metadata": {},
   "outputs": [
    {
     "name": "stdout",
     "output_type": "stream",
     "text": [
      "\n",
      "The COBOL code has been uploaded to the AIX host successfully.\n"
     ]
    }
   ],
   "source": [
    "%%bash\n",
    "export AIX_HOST=\"52.117.41.211\"\n",
    "export AIX_USER=\"ab3user\"\n",
    "export APP_DIR=\"/home/cobol\"\n",
    "export COBOL_CODE=\"/tmp/AWSome.cbl\"\n",
    "\n",
    "cat <<EOF >$COBOL_CODE\n",
    "       IDENTIFICATION DIVISION.\n",
    "       PROGRAM-ID.  ABIII.\n",
    "\n",
    "       PROCEDURE DIVISION.\n",
    "       DisplayPrompt.\n",
    "           DISPLAY \"Woohoo :) I am a COBOL code running on AIX!\".\n",
    "           STOP RUN.\n",
    "EOF\n",
    "\n",
    "scp $COBOL_CODE $AIX_USER@$AIX_HOST:$APP_DIR && echo -e \"\\nThe COBOL code has been uploaded to the AIX host successfully.\""
   ]
  },
  {
   "cell_type": "markdown",
   "metadata": {},
   "source": [
    "# Compile and test the COBOL code on AIX:"
   ]
  },
  {
   "cell_type": "code",
   "execution_count": 9,
   "metadata": {},
   "outputs": [
    {
     "name": "stdout",
     "output_type": "stream",
     "text": [
      "Remove the exising complied app...\n",
      "\n",
      "Compile the COBOL code...\n",
      "\n",
      "Verify the output file:\n",
      "/home/cobol/AWSome.exe: executable (RISC System/6000) or object module not stripped\n",
      "\n",
      "Run the executable file:\n",
      "Woohoo :) I am a COBOL code running on AIX!\n"
     ]
    }
   ],
   "source": [
    "%%bash\n",
    "export AIX_HOST=\"52.117.41.211\"\n",
    "export AIX_USER=\"ab3user\"\n",
    "export APP_DIR=\"/home/cobol\"\n",
    "export COBOL_CODE=\"$APP_DIR/AWSome.cbl\"\n",
    "export EXEC_FILE=\"$APP_DIR/AWSome.exe\"\n",
    "\n",
    "ssh $AIX_USER@${AIX_HOST} \"\n",
    "echo -e 'Remove the exising complied app...\\n'\n",
    "rm -f $EXEC_FILE && \n",
    "\n",
    "echo -e 'Compile the COBOL code...\\n'\n",
    "cob2 $COBOL_CODE -o $EXEC_FILE >/dev/null\n",
    "\n",
    "echo -e 'Verify the output file:'\n",
    "file $EXEC_FILE\n",
    "\n",
    "echo -e '\\nRun the executable file:'\n",
    "$EXEC_FILE\"\n"
   ]
  },
  {
   "cell_type": "code",
   "execution_count": null,
   "metadata": {},
   "outputs": [],
   "source": []
  }
 ],
 "metadata": {
  "kernelspec": {
   "display_name": "conda_python3",
   "language": "python",
   "name": "conda_python3"
  },
  "language_info": {
   "codemirror_mode": {
    "name": "ipython",
    "version": 3
   },
   "file_extension": ".py",
   "mimetype": "text/x-python",
   "name": "python",
   "nbconvert_exporter": "python",
   "pygments_lexer": "ipython3",
   "version": "3.6.10"
  }
 },
 "nbformat": 4,
 "nbformat_minor": 4
}
